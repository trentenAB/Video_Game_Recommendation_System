{
 "cells": [
  {
   "cell_type": "markdown",
   "id": "bcec0b12",
   "metadata": {},
   "source": [
    "# Web Scraping"
   ]
  },
  {
   "cell_type": "markdown",
   "id": "9d79cf8a",
   "metadata": {},
   "source": [
    "###  *******Skip to <ins>***Get All Games List page links***</ins> halfway down to see the actual scraping***"
   ]
  },
  {
   "cell_type": "markdown",
   "id": "3efbba82",
   "metadata": {},
   "source": [
    "## Initial Web Scrape testing"
   ]
  },
  {
   "cell_type": "code",
   "execution_count": 3,
   "id": "93c5fb42",
   "metadata": {},
   "outputs": [],
   "source": [
    "import requests\n",
    "import sys\n",
    "import re\n",
    "from bs4 import BeautifulSoup as bs\n",
    "import pandas as pd, numpy as np\n",
    "import warnings\n",
    "warnings.filterwarnings(action='once')\n",
    "from icecream import ic\n",
    "from random import randint, random\n",
    "from time import sleep\n",
    "from timeit import default_timer as timer\n",
    "from playsound import playsound\n",
    "from yag import yaggit\n",
    "from concurrent import futures\n",
    "from itertools import count"
   ]
  },
  {
   "cell_type": "code",
   "execution_count": 638,
   "id": "5c7f875e",
   "metadata": {},
   "outputs": [],
   "source": [
    "base = \"https://www.metacritic.com\"\n",
    "# first_page = \"https://www.metacritic.com/browse/games/score/metascore/all/all/filtered?view=condensed\"\n",
    "user_agent = {'User-agent': 'Mozilla/5.0 (Windows NT 10.0; Win64; x64; rv:99.0) Gecko/20100101 Firefox/99.0'}\n",
    "# review_dict = {'name':[], 'date':[], 'game':[], 'rating':[], 'review':[]}\n",
    "# game_dict = {'title':[], 'release_date':[], 'genre':[], 'platforms':[], 'developer':[], 'esrb_rating':[], 'ESRBs':[], \\\n",
    "#              'metascore':[], 'userscore':[],'critic_reviews':[], 'user_reviews':[], 'num_players':[], 'summary':[]}"
   ]
  },
  {
   "cell_type": "code",
   "execution_count": 3,
   "id": "1d24744b",
   "metadata": {},
   "outputs": [],
   "source": [
    "def email(message):\n",
    "    yaggit(to='trentenmanugas@gmail.com', subject='Scraper', message = message)"
   ]
  },
  {
   "cell_type": "code",
   "execution_count": 4,
   "id": "02854594",
   "metadata": {},
   "outputs": [],
   "source": [
    "def get_details(soup, text, col, idx=1):\n",
    "    details = []\n",
    "    if soup.find('th', scope='row', text = text)==None:\n",
    "        game_dict[col].append(None)\n",
    "        return\n",
    "    for i in soup.find('th', scope='row', text = text).next_siblings:\n",
    "        details.append(i.text)\n",
    "    details_ = ' '.join(details[idx].strip().split())\n",
    "    game_dict[col].append(details_)"
   ]
  },
  {
   "cell_type": "code",
   "execution_count": 5,
   "id": "3ceec951",
   "metadata": {},
   "outputs": [],
   "source": [
    "def get_platforms(soup):\n",
    "    if soup.find('span', class_=\"label\", string = \"Also On:\")==None:\n",
    "        game_dict['platforms'].append(soup.find('span', class_=\"platform\").text.strip())\n",
    "    else:\n",
    "        consoles = [soup.find('span', class_=\"platform\").text.strip()]\n",
    "        other_consoles = [console.text  for console in soup.find_all('a', class_=\"hover_none\")[1:]]\n",
    "        consoles.extend(other_consoles)\n",
    "        game_dict['platforms'].append(', '.join(consoles))"
   ]
  },
  {
   "cell_type": "code",
   "execution_count": 6,
   "id": "3e6d0723",
   "metadata": {},
   "outputs": [],
   "source": [
    "def get_user_reviews(soup):\n",
    "    if soup.find_all('span', class_ = 'count')[1].find('a')!=None:\n",
    "        game_dict['user_reviews'].append(soup.find_all('span', class_ = 'count')[1].find('a').text[:-8])\n",
    "    else:\n",
    "        game_dict['user_reviews'].append(None)"
   ]
  },
  {
   "cell_type": "code",
   "execution_count": 7,
   "id": "adde8725",
   "metadata": {},
   "outputs": [],
   "source": [
    "def get_numplayers(soup):\n",
    "    P = soup.find(text = 'Number of Players:')\n",
    "    O = soup.find(text = 'Number of Online Players:')\n",
    "    if P==None:\n",
    "        if O==None or O.next_element.text=='No Online Multiplayer':\n",
    "            game_dict['num_players'].append('1 Player')\n",
    "            return\n",
    "        else:\n",
    "            game_dict['num_players'].append(O.next_element.text)\n",
    "            return\n",
    "    else:\n",
    "        if O==None or O.next_element.text=='No Online Multiplayer':\n",
    "            game_dict['num_players'].append(P.next_element.text)\n",
    "            return\n",
    "        else:\n",
    "            players = [P.next_element.text, O.next_element.text]\n",
    "            game_dict['num_players'].append(', '.join(players))\n",
    "            return"
   ]
  },
  {
   "cell_type": "code",
   "execution_count": 8,
   "id": "badac2ba",
   "metadata": {},
   "outputs": [],
   "source": [
    "def get_summary(soup):\n",
    "    if soup.find('span', class_=\"label\", string = \"Also On:\")!=None:\n",
    "        if len(soup.find_all('span', class_ = 'data'))==4:\n",
    "            game_dict['summary'].append(soup.find_all('span', class_ = 'data')[3].text)\n",
    "        else:\n",
    "            game_dict['summary'].append(None)\n",
    "    else:\n",
    "        if len(soup.find_all('span', class_ = 'data'))==3:\n",
    "            game_dict['summary'].append(soup.find_all('span', class_ = 'data')[2].text)\n",
    "        else:\n",
    "            game_dict['summary'].append(None)"
   ]
  },
  {
   "cell_type": "code",
   "execution_count": 506,
   "id": "49d6a9fc",
   "metadata": {},
   "outputs": [],
   "source": [
    "def parse_info(details_soup, details_link):\n",
    "    # Get to Details Page\n",
    "    \n",
    "    count = 1 \n",
    "    while details_soup.a==None and count<3:\n",
    "        print('Error, Trying DETAILS Again')\n",
    "        sleep(10)\n",
    "        details_response = requests.get(details_link+'/robots.text', headers = user_agent)\n",
    "        details_soup = bs(details_response.text, 'html.parser')\n",
    "        count += 1\n",
    "        print('Still None?:', details_soup.a==None)\n",
    "        print('response code:', details_response.status_code)\n",
    "    try:\n",
    "        for detail in details_soup.find_all('div', id='main'):\n",
    "            detail.find('h1').text\n",
    "            detail.find_all('span', class_='data')[1].text\n",
    "            detail.find('span', class_=\"platform\").text.strip()\n",
    "            detail.find('span', itemprop='ratingValue').text\n",
    "            detail.find_all('a', class_='metascore_anchor')[1].contents[1].text\n",
    "    except Exception as e:\n",
    "        print('\\n',sys.exc_info()[0],'|||', sys.exc_info()[1], '||| Error on line', sys.exc_info()[2].tb_lineno)\n",
    "        print('Info Failed')\n",
    "        playsound('ding.mp3')\n",
    "#         email('Details Failed')\n",
    "        return 'done'\n",
    "        \n",
    "#     Get game Details\n",
    "    try:\n",
    "        for detail in details_soup.find_all('div', id='main'):\n",
    "            game_dict['title'].append(detail.find('h1').text)\n",
    "            game_dict['release_date'].append(detail.find_all('span', class_='data')[1].text)\n",
    "            get_details(detail, 'Genre(s):', 'genre')\n",
    "    #         get_platforms(detail)\n",
    "            game_dict['platforms'].append(detail.find('span', class_=\"platform\").text.strip())\n",
    "            get_details(detail, 'Developer:', 'developer')\n",
    "            get_details(detail, 'Rating:', 'esrb_rating')\n",
    "            get_details(detail, 'ESRB Descriptors:', 'ESRBs', idx=0)\n",
    "            game_dict['metascore'].append(detail.find('span', itemprop='ratingValue').text)\n",
    "            game_dict['userscore'].append(detail.find_all('a', class_='metascore_anchor')[1].contents[1].text)\n",
    "            game_dict['critic_reviews'].append([i.find_all('span') for i in \n",
    "                                                detail.find_all('span', class_='count')][0][2].text.strip())\n",
    "            get_user_reviews(detail)\n",
    "            get_numplayers(detail)\n",
    "            get_summary(detail)\n",
    "    except Exception as e:\n",
    "        print('\\n',sys.exc_info()[0],'|||', sys.exc_info()[1], '||| Error on line', sys.exc_info()[2].tb_lineno)\n",
    "        print('Info Failed')\n",
    "        playsound('ding.mp3')\n",
    "        email('Details Failed')\n",
    "        return 'done'"
   ]
  },
  {
   "cell_type": "code",
   "execution_count": 591,
   "id": "8dad8d53",
   "metadata": {},
   "outputs": [],
   "source": [
    "def parse_reviews(user_review_soup, user_review_link):\n",
    "        \n",
    "    count = 1\n",
    "    while user_review_soup.a==None and count<3:\n",
    "        print('Error, Trying REVIEWS Again')\n",
    "        sleep(10)\n",
    "        user_review_response = requests.get(user_review_link+'/robots.text', headers = user_agent)\n",
    "        user_review_soup = bs(user_review_response.text, 'html.parser')\n",
    "        count += 1\n",
    "        print('Still None?:', user_review_soup.a==None)\n",
    "        print('response code:', user_review_response.status_code)\n",
    "        \n",
    "    try:\n",
    "        for review in user_review_soup.find_all('div', class_='review_content'):\n",
    "            if review.find('div', class_='name') == None:\n",
    "                break\n",
    "    #                 get_consoles(user_review_soup) \n",
    "            user_review_soup.find('h1').text\n",
    "            review.find('div', class_='name').find(recursive = True).text\n",
    "            review.find('div', class_='date').text\n",
    "            review.find('div', class_='review_grade').find_all('div')[0].text\n",
    "            if review.find('span', class_='blurb blurb_expanded'):\n",
    "                review.find('span', class_='blurb blurb_expanded').text\n",
    "            elif review.find('div', class_='review_body').find('span')==None:\n",
    "                continue\n",
    "            else:\n",
    "                review.find('div', class_='review_body').find('span').text\n",
    "                \n",
    "    except Exception as e:\n",
    "        print('\\n',sys.exc_info()[0],'|||', sys.exc_info()[1], '||| Error on line', sys.exc_info()[2].tb_lineno)\n",
    "        print('Reviews Failed')\n",
    "        playsound('ding.mp3')\n",
    "        email('Reviews Failed')\n",
    "        return 'done'\n",
    "        \n",
    "\n",
    "#           credit: Adeline Ong\n",
    "#           https://towardsdatascience.com/web-scraping-metacritic-reviews-using-beautifulsoup-63801bbe200e\n",
    "\n",
    "#             Loop through User Review Page and Extract Review Data into a dictionary\n",
    "    try:\n",
    "        for review in user_review_soup.find_all('div', class_='review_content'):\n",
    "            if review.find('div', class_='name') == None:\n",
    "                break\n",
    "    #                 get_consoles(user_review_soup) \n",
    "            review_dict['game'].append(user_review_soup.find('h1').text)\n",
    "            review_dict['name'].append(review.find('div', class_='name').find(recursive = True).text)\n",
    "            review_dict['date'].append(review.find('div', class_='date').text)\n",
    "            review_dict['rating'].append(review.find('div', class_='review_grade').find_all('div')[0].text)\n",
    "            if review.find('span', class_='blurb blurb_expanded'):\n",
    "                review_dict['review'].append(review.find('span', class_='blurb blurb_expanded').text)\n",
    "            elif review.find('div', class_='review_body').find('span')==None:\n",
    "                review_dict['review'].append(None)\n",
    "            else:\n",
    "                review_dict['review'].append(review.find('div', class_='review_body').find('span').text)\n",
    "    except Exception as e:\n",
    "        print('\\n',sys.exc_info()[0],'|||', sys.exc_info()[1], '||| Error on line', sys.exc_info()[2].tb_lineno)\n",
    "        print('Reviews Failed')\n",
    "        playsound('ding.mp3')\n",
    "        email('Reviews Failed')\n",
    "        return 'done'"
   ]
  },
  {
   "cell_type": "code",
   "execution_count": null,
   "id": "f3bf565e",
   "metadata": {
    "scrolled": true
   },
   "outputs": [],
   "source": [
    "def parse_games(startpage_link, next_page, end_page, game_num_start, game_num_end = 101):  \n",
    "    next_page = next_page\n",
    "    \n",
    "#   request from current page\n",
    "    try:\n",
    "        response = requests.get(startpage_link, headers = user_agent)\n",
    "        soup = bs(response.text, 'html.parser')\n",
    "    except Exception as e:\n",
    "        print('\\n', sys.exc_info()[0],'|||', sys.exc_info()[1], '||| Error on line', sys.exc_info()[2].tb_lineno)\n",
    "        print(f'Trying page {next_page-1} again')\n",
    "        sleep(10)\n",
    "        response = requests.get(startpage_link, headers = user_agent)\n",
    "        soup = bs(response.text, 'html.parser')\n",
    "        \n",
    "        \n",
    "    count = 1\n",
    "    while soup.a==None and count<3:\n",
    "        print('Error, Trying PAGE Again')\n",
    "        sleep(10)\n",
    "        response = requests.get(startpage_link, headers = user_agent)\n",
    "        soup = bs(response.text, 'html.parser')\n",
    "        count += 1\n",
    "        print('Still None?:', soup.a==None)\n",
    "        print('response code:', response.status_code)\n",
    "    if soup.a==None:\n",
    "        print('Trying PAGE last time')\n",
    "        sleep(15)\n",
    "        response = requests.get(startpage_link+'/robots.text', headers = user_agent)\n",
    "        soup = bs(response.text, 'html.parser')\n",
    "        print('Still None?:', soup.a==None)\n",
    "        print('response code:', response.status_code)\n",
    "        if soup.find('a')==None:\n",
    "            print(f'{next_page-1} PAGE Failed')\n",
    "            playsound('ding.mp3')\n",
    "            email(f'Failed to Connect to Page {next_page-1}')\n",
    "            return\n",
    "            \n",
    "    \n",
    "#     Loop through current page and extract links to game pages\n",
    "    current_page = int(soup.find('span', class_='page_num').text)\n",
    "    print(f'parsing page: {current_page}/{end_page}')\n",
    "    game_num = game_num_start\n",
    "    for game in soup.find_all('a', attrs = {'class':'title'})[game_num - 1:game_num_end]:\n",
    "        game_link = url + game.get('href')\n",
    "        \n",
    "#         Connects to game page summary\n",
    "        sleep(3)\n",
    "        try:\n",
    "            game_response = requests.get(game_link, headers = user_agent)\n",
    "            game_soup = bs(game_response.text, 'html.parser')\n",
    "        except Exception as e:\n",
    "            print('Failed to connect to game page')\n",
    "            print('Game response code:', game_response.status_code)\n",
    "            print('\\n', sys.exc_info()[0],'|||', sys.exc_info()[1], '||| Error on line', sys.exc_info()[2].tb_lineno)\n",
    "            print('Trying again...')\n",
    "            sleep(10)\n",
    "            game_response = requests.get(game_link, headers = user_agent)\n",
    "            game_soup = bs(game_response.text, 'html.parser')\n",
    "            \n",
    "        count = 1\n",
    "        while game_soup.a==None and count<3:\n",
    "            print('Error, Trying GAME Again')\n",
    "            sleep(10)\n",
    "            game_response = requests.get(game_link, headers = user_agent)\n",
    "            game_soup = bs(game_response.text, 'html.parser')\n",
    "            count += 1\n",
    "            print('Still None?:', game_soup.a==None)\n",
    "            print('response code:', game_response.status_code)\n",
    "        if game_soup.a==None:\n",
    "            print('Trying GAME last time')\n",
    "            sleep(15)\n",
    "            game_response = requests.get(game_link+'/robots.text', headers = user_agent)\n",
    "            game_soup = bs(game_response.text, 'html.parser')\n",
    "            print('Still None?:', game_soup.a==None)\n",
    "            print('response code:', game_response.status_code)\n",
    "            if game_soup.find('a')==None:\n",
    "                print(f'Game {game_num} GAME Failed')\n",
    "                playsound('ding.mp3')\n",
    "                email(f'Failed to Connect to Game {game_num}')\n",
    "                return\n",
    "        print('Making Game Connections...', end = ' ')\n",
    "        sleep(3)\n",
    "        \n",
    "        \n",
    "        #         Connect to Details Page\n",
    "        try:\n",
    "            details_link = game_link + '/details'\n",
    "#             game_soup.find('a', attrs = {'class':'action'}, text = 'Details & Credits').get('href')\n",
    "            details_response = requests.get(details_link, headers = user_agent)\n",
    "            details_soup = bs(details_response.text, 'html.parser')\n",
    "        except Exception as e:\n",
    "            sleep(10)\n",
    "            print('\\n',sys.exc_info()[0],'|||', sys.exc_info()[1], '||| Error on line', sys.exc_info()[2].tb_lineno)\n",
    "            print('Failed to connect to Details page')\n",
    "            print('Details response code:', details_response.status_code)\n",
    "            print('Trying Details again')\n",
    "            details_response = requests.get(details_link, headers = user_agent)\n",
    "            details_soup = bs(details_response.text, 'html.parser')\n",
    "        \n",
    "        count = 1\n",
    "        while details_soup.a==None and count<3:\n",
    "            print('Error, Trying Details Again')\n",
    "            sleep(10)\n",
    "            details_response = requests.get(details_link, headers = user_agent)\n",
    "            details_soup = bs(details_response.text, 'html.parser')\n",
    "            count += 1\n",
    "            print('Still None?:', details_soup.a==None)\n",
    "            print('Details response code:', details_response.status_code)\n",
    "        if details_soup.find('a')==None:\n",
    "            print('Trying Details last time')\n",
    "            sleep(15)\n",
    "            details_response = requests.get(details_link+'/robots.text', headers = user_agent)\n",
    "            details_soup = bs(details_response.text, 'html.parser')\n",
    "            if details_soup.find('a')==None:\n",
    "                print(f'Game {game_num} Details Failed')\n",
    "                print('Details response code:', details_response.status_code)\n",
    "                playsound('ding.mp3')\n",
    "                email(f'Game {game_num} Details Failed')\n",
    "                return\n",
    "            \n",
    "            \n",
    "        #             Connects to User Review page\n",
    "        try:\n",
    "            sleep(3)\n",
    "            user_review_link = game_link + '/user-reviews'\n",
    "#             game_soup.find('a', attrs = {'class':'action'}, text = 'User Reviews').get('href')\n",
    "            user_review_response = requests.get(user_review_link, headers = user_agent)\n",
    "            user_review_soup = bs(user_review_response.text, 'html.parser')\n",
    "        except Exception as e:\n",
    "            sleep(10)\n",
    "            print('\\n', sys.exc_info()[0],'|||', sys.exc_info()[1], '||| Error on line', sys.exc_info()[2].tb_lineno)\n",
    "            print('Failed to connect to Reviews page')\n",
    "            print('Reviews response code:', user_review_response.status_code)\n",
    "            print('Trying Reviews again')\n",
    "            user_review_response = requests.get(user_review_link, headers = user_agent)\n",
    "            user_review_soup = bs(user_review_response.text, 'html.parser')\n",
    "            \n",
    "            \n",
    "        count = 1\n",
    "        while user_review_soup.a==None and count<3:\n",
    "            print('Error, Trying Reviews Again')\n",
    "            sleep(10)\n",
    "            user_review_response = requests.get(user_review_link, headers = user_agent)\n",
    "            user_review_soup = bs(user_review_response.text, 'html.parser')\n",
    "            count += 1\n",
    "            print('Still None?:', user_review_soup.a==None)\n",
    "            print('Reviews response code:', user_review_response.status_code)\n",
    "        if user_review_soup.a==None:\n",
    "            print('Trying Reviews last time')\n",
    "            sleep(15)\n",
    "            user_review_response = requests.get(user_review_link+'/robots.text', headers = user_agent)\n",
    "            user_review_soup = bs(user_review_response.text, 'html.parser')\n",
    "            print('Still None?:', user_review_soup.a==None)\n",
    "            print('Reviews response code:', user_review_response.status_code)\n",
    "            if user_review_soup.a==None:\n",
    "                print(f'Game {game_num} Reviews Failed')\n",
    "                playsound('ding.mp3')\n",
    "                email(f'Game {game_num} Reviews Failed')\n",
    "                return\n",
    "        \n",
    "        \n",
    "#         Get Game info\n",
    "        if parse_info(details_soup)=='done':\n",
    "            return\n",
    "        \n",
    "        \n",
    "#         Get Game Reviews\n",
    "        if parse_reviews(user_review_soup)=='done':\n",
    "            return\n",
    "        \n",
    "        print(f'Game {game_num} completed')\n",
    "        game_num +=1\n",
    "        \n",
    "    if next_page == (end_page+1):\n",
    "        find_next_page = soup.find('a', class_='page_num', string = f'{next_page}')\n",
    "        global startpage\n",
    "        startpage = url + find_next_page.get('href')\n",
    "        print(f'Done, Next Start Page: {startpage}')\n",
    "        print('Copy and Paste this link or use startpage variable')\n",
    "        playsound('ding.mp3')\n",
    "        email('Completed')\n",
    "        return startpage_link\n",
    "    if next_page>(end_page+1):\n",
    "        print('Increase End page')\n",
    "        playsound('ding.mp3')\n",
    "        return\n",
    "    if current_page>=next_page:\n",
    "        print('Increase Next page')\n",
    "        playsound('ding.mp3')\n",
    "        return\n",
    "    sleep(10)\n",
    "    \n",
    "#     Recurse through the following pages\n",
    "    find_next_page = soup.find('a', class_='page_num', string = f'{next_page}')\n",
    "    nextpage_link = url + find_next_page.get('href')\n",
    "    next_page += 1\n",
    "    parse_games(nextpage_link, next_page, end_page, game_num_start = 1, game_num_end = 101)"
   ]
  },
  {
   "cell_type": "code",
   "execution_count": 1,
   "id": "83f001a9",
   "metadata": {},
   "outputs": [],
   "source": [
    "page_num = 51\n",
    "startpage=f'https://www.metacritic.com/browse/games/score/metascore/all/all/filtered?view=condensed&page={page_num-1}'"
   ]
  },
  {
   "cell_type": "code",
   "execution_count": null,
   "id": "e22d3845",
   "metadata": {
    "scrolled": true
   },
   "outputs": [],
   "source": [
    "# start = timer()\n",
    "# try:\n",
    "#     parse_games(startpage, next_page = 52, end_page = 54, game_num_start = 1, game_num_end = 101)\n",
    "# except Exception as e:\n",
    "#     print('\\n', sys.exc_info()[0],'|||', sys.exc_info()[1], '||| Error on line', sys.exc_info()[2].tb_lineno)\n",
    "#     playsound('ding.mp3')\n",
    "#     email(f'Error {sys.exc_info()[0]} ||| {sys.exc_info()[1]} ||| Error on line {sys.exc_info()[2].tb_lineno}')\n",
    "    \n",
    "# end = timer()\n",
    "# minutes = int((end-start)//60)\n",
    "# seconds = int((end-start)-(minutes*60))\n",
    "# print(f'Elapsed Time: {minutes} minutes {seconds} seconds')"
   ]
  },
  {
   "cell_type": "code",
   "execution_count": null,
   "id": "94dbce36",
   "metadata": {},
   "outputs": [],
   "source": [
    "# ['game', 'release_date', 'genre', 'platforms', 'developer', 'esrb_rating', 'ESRBs', 'metascore', 'userscore', \n",
    "#  'critic_reviews', 'user_reviews', 'num_players', 'summary'])"
   ]
  },
  {
   "cell_type": "code",
   "execution_count": null,
   "id": "5a175406",
   "metadata": {},
   "outputs": [],
   "source": [
    "# game_dict = pd.read_csv('metacritic_games_four.csv').drop(['Unnamed: 0'],axis=1).to_dict('list')"
   ]
  },
  {
   "cell_type": "code",
   "execution_count": 225,
   "id": "fad548f2",
   "metadata": {},
   "outputs": [],
   "source": [
    "def parse_links(startpage_link, next_page, end_page, game_num_start, game_num_end = 101):  \n",
    "    next_page = next_page\n",
    "    \n",
    "#   request from current page\n",
    "    try:\n",
    "        response = requests.get(startpage_link, headers = user_agent)\n",
    "        soup = bs(response.text, 'html.parser')\n",
    "    except Exception as e:\n",
    "        print('\\n', sys.exc_info()[0],'|||', sys.exc_info()[1], '||| Error on line', sys.exc_info()[2].tb_lineno)\n",
    "        print(f'Trying page {next_page-1} again')\n",
    "        sleep(10)\n",
    "        response = requests.get(startpage_link, headers = user_agent)\n",
    "        soup = bs(response.text, 'html.parser')\n",
    "        \n",
    "        \n",
    "    count = 1\n",
    "    while soup.a==None and count<3:\n",
    "        print('Error, Trying PAGE Again')\n",
    "        sleep(10)\n",
    "        response = requests.get(startpage_link, headers = user_agent)\n",
    "        soup = bs(response.text, 'html.parser')\n",
    "        count += 1\n",
    "        print('Still None?:', soup.a==None)\n",
    "        print('response code:', response.status_code)\n",
    "    if soup.a==None:\n",
    "        print('Trying PAGE last time')\n",
    "        sleep(15)\n",
    "        response = requests.get(startpage_link+'/robots.text', headers = user_agent)\n",
    "        soup = bs(response.text, 'html.parser')\n",
    "        print('Still None?:', soup.a==None)\n",
    "        print('response code:', response.status_code)\n",
    "        if soup.find('a')==None:\n",
    "            print(f'{next_page-1} PAGE Failed')\n",
    "            playsound('ding.mp3')\n",
    "            email(f'Failed to Connect to Page {next_page-1}')\n",
    "            return\n",
    "            \n",
    "    \n",
    "#     Loop through current page and extract links to game pages\n",
    "    current_page = int(soup.find('span', class_='page_num').text)\n",
    "    print(f'parsing page: {current_page}/{end_page}')\n",
    "    game_num = game_num_start\n",
    "    for num in soup.find_all('span', class_=\"title numbered\"):\n",
    "        links['number'].append(int(num.text.strip()[:-1]))\n",
    "    for game in soup.find_all('a', attrs = {'class':'title'})[game_num - 1:game_num_end]:\n",
    "        game_link = url + game.get('href')\n",
    "        \n",
    "#         Connects to game page summary\n",
    "#         sleep(3)\n",
    "#         try:\n",
    "#             game_response = requests.get(game_link, headers = user_agent)\n",
    "#             game_soup = bs(game_response.text, 'html.parser')\n",
    "#         except Exception as e:\n",
    "#             print('Failed to connect to game page')\n",
    "#             print('Game response code:', game_response.status_code)\n",
    "#             print('\\n', sys.exc_info()[0],'|||', sys.exc_info()[1], '||| Error on line', sys.exc_info()[2].tb_lineno)\n",
    "#             print('Trying again...')\n",
    "#             sleep(10)\n",
    "#             game_response = requests.get(game_link, headers = user_agent)\n",
    "#             game_soup = bs(game_response.text, 'html.parser')\n",
    "            \n",
    "#         count = 1\n",
    "#         while game_soup.a==None and count<3:\n",
    "#             print('Error, Trying GAME Again')\n",
    "#             sleep(10)\n",
    "#             game_response = requests.get(game_link, headers = user_agent)\n",
    "#             game_soup = bs(game_response.text, 'html.parser')\n",
    "#             count += 1\n",
    "#             print('Still None?:', game_soup.a==None)\n",
    "#             print('response code:', game_response.status_code)\n",
    "#         if game_soup.a==None:\n",
    "#             print('Trying GAME last time')\n",
    "#             sleep(15)\n",
    "#             game_response = requests.get(game_link+'/robots.text', headers = user_agent)\n",
    "#             game_soup = bs(game_response.text, 'html.parser')\n",
    "#             print('Still None?:', game_soup.a==None)\n",
    "#             print('response code:', game_response.status_code)\n",
    "#             if game_soup.find('a')==None:\n",
    "#                 print(f'Game {game_num} GAME Failed')\n",
    "#                 playsound('ding.mp3')\n",
    "#                 email(f'Failed to Connect to Game {game_num}')\n",
    "#                 return\n",
    "#         print('Getting links...', end = ' ')\n",
    "#         sleep(3)\n",
    "        \n",
    "        \n",
    "        #         Get detail and review links\n",
    "#         try:\n",
    "        details_link = game_link + '/details'\n",
    "        links['detail_links'].append(details_link)\n",
    "#            \n",
    "        user_review_link = game_link + '/user-reviews'\n",
    "        links['review_links'].append(user_review_link)\n",
    "#             \n",
    "        \n",
    "    if next_page == (end_page+1):\n",
    "        find_next_page = soup.find('a', class_='page_num', string = f'{next_page}')\n",
    "        global startpage\n",
    "        startpage = url + find_next_page.get('href')\n",
    "        print(f'Done, Next Start Page: {startpage}')\n",
    "        print('Copy and Paste this link or use startpage variable')\n",
    "        playsound('ding.mp3')\n",
    "#         email('Completed')\n",
    "        return startpage_link\n",
    "    if next_page>(end_page+1):\n",
    "        print('Increase End page')\n",
    "        playsound('ding.mp3')\n",
    "        return\n",
    "    if current_page>=next_page:\n",
    "        print('Increase Next page')\n",
    "        playsound('ding.mp3')\n",
    "        return\n",
    "    sleep(5)\n",
    "    \n",
    "#     Recurse through the following pages\n",
    "    find_next_page = soup.find('a', class_='page_num', string = f'{next_page}')\n",
    "    nextpage_link = url + find_next_page.get('href')\n",
    "    next_page += 1\n",
    "    parse_links(nextpage_link, next_page, end_page, game_num_start = 1, game_num_end = 101)"
   ]
  },
  {
   "cell_type": "code",
   "execution_count": null,
   "id": "f83e660c",
   "metadata": {},
   "outputs": [],
   "source": [
    "# parse_links(startpage, next_page=62, end_page=120, game_num_start = 1, game_num_end = 101) "
   ]
  },
  {
   "cell_type": "code",
   "execution_count": 226,
   "id": "5f631ce4",
   "metadata": {},
   "outputs": [],
   "source": [
    "page_start = \"https://www.metacritic.com/browse/games/score/metascore/all/all/filtered?view=condensed\""
   ]
  },
  {
   "cell_type": "markdown",
   "id": "984469d2",
   "metadata": {},
   "source": [
    "______"
   ]
  },
  {
   "cell_type": "markdown",
   "id": "a286ea62",
   "metadata": {},
   "source": [
    "____"
   ]
  },
  {
   "cell_type": "markdown",
   "id": "8ace2aef",
   "metadata": {},
   "source": [
    "_____"
   ]
  },
  {
   "cell_type": "markdown",
   "id": "fa0ee7b5",
   "metadata": {},
   "source": [
    "# Get All Games List page links"
   ]
  },
  {
   "cell_type": "code",
   "execution_count": 78,
   "id": "8830a1cf",
   "metadata": {},
   "outputs": [],
   "source": [
    "main_first = 'https://www.metacritic.com/browse/games/score/metascore/all/all/filtered?view=condensed'\n",
    "# urls = []\n",
    "# for i in list(range(194)):\n",
    "#     if i==0:\n",
    "#         urls.append(main_first)\n",
    "#     else:\n",
    "#         urls.append(main+f'&page={i}')"
   ]
  },
  {
   "cell_type": "code",
   "execution_count": 8,
   "id": "208d46f1",
   "metadata": {},
   "outputs": [
    {
     "data": {
      "text/plain": [
       "array([['https://www.metacritic.com/browse/games/score/metascore/all/all/filtered?view=condensed'],\n",
       "       ['https://www.metacritic.com/browse/games/score/metascore/all/all/filtered?view=condensed&page=1'],\n",
       "       ['https://www.metacritic.com/browse/games/score/metascore/all/all/filtered?view=condensed&page=2'],\n",
       "       ['https://www.metacritic.com/browse/games/score/metascore/all/all/filtered?view=condensed&page=3'],\n",
       "       ['https://www.metacritic.com/browse/games/score/metascore/all/all/filtered?view=condensed&page=4']],\n",
       "      dtype=object)"
      ]
     },
     "execution_count": 8,
     "metadata": {},
     "output_type": "execute_result"
    }
   ],
   "source": [
    "main_pages = pd.DataFrame(urls)\n",
    "main_pages.head().values"
   ]
  },
  {
   "cell_type": "code",
   "execution_count": 83,
   "id": "878df9fd",
   "metadata": {},
   "outputs": [],
   "source": [
    "# main_pages.to_csv('main_meta_pages.csv')"
   ]
  },
  {
   "cell_type": "markdown",
   "id": "3d03bf13",
   "metadata": {},
   "source": [
    "# Get Details and Review Links"
   ]
  },
  {
   "cell_type": "code",
   "execution_count": 99,
   "id": "3ebe09a2",
   "metadata": {},
   "outputs": [],
   "source": [
    "# links = {'number':[], 'detail_links':[], 'review_links':[]}"
   ]
  },
  {
   "cell_type": "code",
   "execution_count": 107,
   "id": "7a468d2a",
   "metadata": {},
   "outputs": [],
   "source": [
    "# iterator = count()"
   ]
  },
  {
   "cell_type": "code",
   "execution_count": 108,
   "id": "d288f3dd",
   "metadata": {},
   "outputs": [],
   "source": [
    "def transform(url):\n",
    "    page_num = next(iterator)+1\n",
    "    try:\n",
    "        response = requests.get(url, headers = user_agent)\n",
    "        soup = bs(response.text, 'html.parser')\n",
    "    except Exception as e:\n",
    "        print('\\n', sys.exc_info()[0],'|||', sys.exc_info()[1], '||| Error on line', sys.exc_info()[2].tb_lineno)\n",
    "        print(f'Trying page again')\n",
    "        sleep(10)\n",
    "        response = requests.get(url, headers = user_agent)\n",
    "        soup = bs(response.text, 'html.parser')\n",
    "        \n",
    "        \n",
    "    count = 1\n",
    "    while soup.a==None and count<3:\n",
    "        print('Error, Trying PAGE Again')\n",
    "        sleep(10)\n",
    "        response = requests.get(url, headers = user_agent)\n",
    "        soup = bs(response.text, 'html.parser')\n",
    "        count += 1\n",
    "        print('Still None?:', soup.a==None)\n",
    "        print('response code:', response.status_code)\n",
    "    if soup.a==None:\n",
    "        print('Trying PAGE last time')\n",
    "        sleep(15)\n",
    "        response = requests.get(url+'/robots.text', headers = user_agent)\n",
    "        soup = bs(response.text, 'html.parser')\n",
    "        print('Still None?:', soup.a==None)\n",
    "        print('response code:', response.status_code)\n",
    "        if soup.find('a')==None:\n",
    "            print(f'{page_num} PAGE Failed')\n",
    "            playsound('ding.mp3')\n",
    "            main_fails.append(url)\n",
    "#             email(f'Failed to Connect to Page {page_num}')\n",
    "            return\n",
    "    \n",
    "    print(f'parsing page: {page_num}')\n",
    "    \n",
    "    for num in soup.find_all('span', class_=\"title numbered\"):\n",
    "        links['number'].append(int(num.text.strip()[:-1]))\n",
    "    for game in soup.find_all('a', attrs = {'class':'title'})[:101]:\n",
    "        game_link = base + game.get('href')\n",
    "        \n",
    "        details_link = game_link + '/details'\n",
    "        links['detail_links'].append(details_link)\n",
    "        \n",
    "        user_review_link = game_link + '/user-reviews'\n",
    "        links['review_links'].append(user_review_link)\n",
    "    return"
   ]
  },
  {
   "cell_type": "code",
   "execution_count": null,
   "id": "052e5cda",
   "metadata": {
    "scrolled": false
   },
   "outputs": [],
   "source": [
    "# with futures.ThreadPoolExecutor() as getting:\n",
    "#     getting.map(transform, urls)"
   ]
  },
  {
   "cell_type": "code",
   "execution_count": 11,
   "id": "d4e508d3",
   "metadata": {},
   "outputs": [
    {
     "data": {
      "text/plain": [
       "array([[1,\n",
       "        'https://www.metacritic.com/game/nintendo-64/the-legend-of-zelda-ocarina-of-time/details',\n",
       "        'https://www.metacritic.com/game/nintendo-64/the-legend-of-zelda-ocarina-of-time/user-reviews'],\n",
       "       [2,\n",
       "        'https://www.metacritic.com/game/playstation/tony-hawks-pro-skater-2/details',\n",
       "        'https://www.metacritic.com/game/playstation/tony-hawks-pro-skater-2/user-reviews'],\n",
       "       [3,\n",
       "        'https://www.metacritic.com/game/playstation-3/grand-theft-auto-iv/details',\n",
       "        'https://www.metacritic.com/game/playstation-3/grand-theft-auto-iv/user-reviews'],\n",
       "       [4,\n",
       "        'https://www.metacritic.com/game/dreamcast/soulcalibur/details',\n",
       "        'https://www.metacritic.com/game/dreamcast/soulcalibur/user-reviews'],\n",
       "       [5,\n",
       "        'https://www.metacritic.com/game/xbox-360/grand-theft-auto-iv/details',\n",
       "        'https://www.metacritic.com/game/xbox-360/grand-theft-auto-iv/user-reviews']],\n",
       "      dtype=object)"
      ]
     },
     "execution_count": 11,
     "metadata": {},
     "output_type": "execute_result"
    }
   ],
   "source": [
    "# links_df = pd.DataFrame(links).drop_duplicates().sort_values('number', ascending = True)\n",
    "links_df.head().values"
   ]
  },
  {
   "cell_type": "code",
   "execution_count": 118,
   "id": "3622973e",
   "metadata": {},
   "outputs": [],
   "source": [
    "# links_df.to_csv('links_master.csv')"
   ]
  },
  {
   "cell_type": "markdown",
   "id": "ff7fe656",
   "metadata": {},
   "source": [
    "# Parse Detail Pages"
   ]
  },
  {
   "cell_type": "code",
   "execution_count": 121,
   "id": "50f69810",
   "metadata": {},
   "outputs": [],
   "source": [
    "detail_links = links['detail_links']"
   ]
  },
  {
   "cell_type": "code",
   "execution_count": 123,
   "id": "10585148",
   "metadata": {},
   "outputs": [],
   "source": [
    "# iterate = count()"
   ]
  },
  {
   "cell_type": "code",
   "execution_count": 136,
   "id": "229212b3",
   "metadata": {},
   "outputs": [],
   "source": [
    "# detail_counts = {'counts':[], 'urls':[]}"
   ]
  },
  {
   "cell_type": "code",
   "execution_count": 507,
   "id": "1b4aec35",
   "metadata": {},
   "outputs": [],
   "source": [
    "def transform_details(url):  \n",
    "    \n",
    "    try:\n",
    "        response = requests.get(url, headers = user_agent)\n",
    "        soup = bs(response.text, 'html.parser')\n",
    "    except Exception as e:\n",
    "        print('\\n', sys.exc_info()[0],'|||', sys.exc_info()[1], '||| Error on line', sys.exc_info()[2].tb_lineno)\n",
    "        print(f'Trying GAME again')\n",
    "        sleep(10)\n",
    "        response = requests.get(url, headers = user_agent)\n",
    "        soup = bs(response.text, 'html.parser')\n",
    "        \n",
    "        \n",
    "    count = 1\n",
    "    while soup.a==None and count<3:\n",
    "        print('Error, Trying GAME Again')\n",
    "        sleep(10)\n",
    "        response = requests.get(url, headers = user_agent)\n",
    "        soup = bs(response.text, 'html.parser')\n",
    "        count += 1\n",
    "        print('Still None?:', soup.a==None)\n",
    "        print('response code:', response.status_code)\n",
    "    if soup.a==None:\n",
    "        print('Trying GAME last time')\n",
    "        sleep(15)\n",
    "        response = requests.get(url+'/robots.text', headers = user_agent)\n",
    "        soup = bs(response.text, 'html.parser')\n",
    "        print('Still None?:', soup.a==None)\n",
    "        print('response code:', response.status_code)\n",
    "        if soup.find('a')==None:\n",
    "            print(f'GAME Failed')\n",
    "            failed_detail_links.append(str(url))\n",
    "            playsound('ding.mp3')\n",
    "#             email(f'Failed to Connect to Page {page_num}')\n",
    "            return\n",
    "    \n",
    "    num = next(iterate)\n",
    "    if parse_info(soup, url)=='done':\n",
    "        print(f'{url} went wrong')\n",
    "\n",
    "#     lists = [game_dict[key] for key in game_dict.keys()]\n",
    "#     t = iter(lists)\n",
    "#     the_len = len(next(t))\n",
    "#     if not all(len(l) == the_len for l in t):\n",
    "#         print(f'{url} length check')\n",
    "    detail_counts['counts'].append(num)\n",
    "    detail_counts['urls'].append(url)\n",
    "    return"
   ]
  },
  {
   "cell_type": "code",
   "execution_count": 508,
   "id": "ea6cfd99",
   "metadata": {
    "scrolled": true
   },
   "outputs": [],
   "source": [
    "# with futures.ThreadPoolExecutor() as getting:\n",
    "#     getting.map(transform_details, detail_links)"
   ]
  },
  {
   "cell_type": "code",
   "execution_count": 473,
   "id": "470cab4a",
   "metadata": {},
   "outputs": [],
   "source": [
    "# include = []\n",
    "# exclude = []\n",
    "# include.append('https://www.metacritic.com/game/pc/far-cry-5-lost-on-mars/details')\n",
    "# exclude.append('https://www.metacritic.com/game/pc/painkiller-redemption/details')"
   ]
  },
  {
   "cell_type": "code",
   "execution_count": null,
   "id": "7e28fd7c",
   "metadata": {
    "scrolled": true
   },
   "outputs": [],
   "source": [
    "include"
   ]
  },
  {
   "cell_type": "code",
   "execution_count": null,
   "id": "b64ecefc",
   "metadata": {},
   "outputs": [],
   "source": [
    "exclude"
   ]
  },
  {
   "cell_type": "code",
   "execution_count": 521,
   "id": "d2a927d1",
   "metadata": {},
   "outputs": [
    {
     "name": "stdout",
     "output_type": "stream",
     "text": [
      "title length is 19318, release_date length is 19318, genre length is 19318, platforms length is 19318, developer length is 19318, esrb_rating length is 19318, ESRBs length is 19318, metascore length is 19318, userscore length is 19318, critic_reviews length is 19318, user_reviews length is 19318, num_players length is 19318, summary length is 19318, "
     ]
    }
   ],
   "source": [
    "for key in list(game_dict.keys())[:]:\n",
    "    print(key,'length is', len(game_dict[key]), end = \", \")\n",
    "#     newlist = game_dict[key][:-3]\n",
    "#     print(f'New {key}','length is', len(newlist))\n",
    "#     game_dict[key] = newlist"
   ]
  },
  {
   "cell_type": "code",
   "execution_count": 405,
   "id": "639dd2bb",
   "metadata": {
    "scrolled": true
   },
   "outputs": [],
   "source": [
    "keys = list(game_dict.keys())"
   ]
  },
  {
   "cell_type": "markdown",
   "id": "ac13200d",
   "metadata": {},
   "source": [
    "### Looking through failed detail pages "
   ]
  },
  {
   "cell_type": "code",
   "execution_count": 476,
   "id": "d59cc0e5",
   "metadata": {},
   "outputs": [
    {
     "name": "stdout",
     "output_type": "stream",
     "text": [
      "18838\n"
     ]
    }
   ],
   "source": [
    "for i, title in enumerate(game_dict['title']):\n",
    "    if title==\"Painkiller Redemption\":\n",
    "        print(i)"
   ]
  },
  {
   "cell_type": "code",
   "execution_count": 490,
   "id": "fc810581",
   "metadata": {
    "scrolled": false
   },
   "outputs": [
    {
     "name": "stdout",
     "output_type": "stream",
     "text": [
      "title:  Zathura\n",
      "release_date:  Nov  2, 2005\n",
      "genre:  Action Adventure, Sci-Fi\n",
      "platforms:  PlayStation 2\n",
      "developer:  High Voltage Software\n",
      "esrb_rating:  E10+\n",
      "ESRBs:  Fantasy Violence\n",
      "metascore:  43\n",
      "userscore:  3.3\n",
      "critic_reviews:  16\n",
      "user_reviews:  6\n",
      "num_players:  1 Player\n",
      "summary:  The Zathura video game, based on the film of the same name, allows players to create their own high-action space adventures in a visually stunning 3D game environment. Based on the best-selling children's adventure book by Chris Van Allsburg (\"Polar Express,\" \"Jumanji\"), Zathura follows two young brothers who find a mysterious board game that takes them on a wild ride through outer space. Meteor showers, out-of-control rocket-propelled robots and nasty alien lizards are among the obstacles they must overcome to get back to Earth. [2K Games]\n"
     ]
    }
   ],
   "source": [
    "idx = 18838\n",
    "for key in keys[:]:\n",
    "    print(key+': ', game_dict[key][idx])\n",
    "#     if key=='title':\n",
    "#         x = [game_dict[key][idx]]\n",
    "#     else:\n",
    "#         x.append(game_dict[key][idx])\n",
    "# print(x)"
   ]
  },
  {
   "cell_type": "code",
   "execution_count": 266,
   "id": "e48c02a1",
   "metadata": {},
   "outputs": [],
   "source": [
    "# popped = {}"
   ]
  },
  {
   "cell_type": "code",
   "execution_count": 480,
   "id": "ba37656b",
   "metadata": {},
   "outputs": [
    {
     "data": {
      "text/html": [
       "<div>\n",
       "<style scoped>\n",
       "    .dataframe tbody tr th:only-of-type {\n",
       "        vertical-align: middle;\n",
       "    }\n",
       "\n",
       "    .dataframe tbody tr th {\n",
       "        vertical-align: top;\n",
       "    }\n",
       "\n",
       "    .dataframe thead th {\n",
       "        text-align: right;\n",
       "    }\n",
       "</style>\n",
       "<table border=\"1\" class=\"dataframe\">\n",
       "  <thead>\n",
       "    <tr style=\"text-align: right;\">\n",
       "      <th></th>\n",
       "      <th>index</th>\n",
       "      <th>contents</th>\n",
       "    </tr>\n",
       "  </thead>\n",
       "  <tbody>\n",
       "    <tr>\n",
       "      <th>0</th>\n",
       "      <td>9027</td>\n",
       "      <td>[Yatagarasu: Attack on Cataclysm, Jul  7, 2015...</td>\n",
       "    </tr>\n",
       "    <tr>\n",
       "      <th>1</th>\n",
       "      <td>11014</td>\n",
       "      <td>[No Mans Land, Sep 15, 2017, Action, General, ...</td>\n",
       "    </tr>\n",
       "    <tr>\n",
       "      <th>2</th>\n",
       "      <td>11433</td>\n",
       "      <td>[Dracula Origin, Dec 19, 2008, Adventure, Gene...</td>\n",
       "    </tr>\n",
       "    <tr>\n",
       "      <th>3</th>\n",
       "      <td>12096</td>\n",
       "      <td>[Warlocks vs Shadows, TBA - Early Access, Role...</td>\n",
       "    </tr>\n",
       "    <tr>\n",
       "      <th>4</th>\n",
       "      <td>12821</td>\n",
       "      <td>[Area 51, Aug  8, 2019, Strategy, Action Adven...</td>\n",
       "    </tr>\n",
       "    <tr>\n",
       "      <th>5</th>\n",
       "      <td>14850</td>\n",
       "      <td>[P.I.D., Oct 13, 2020, Strategy, Adventure, Ge...</td>\n",
       "    </tr>\n",
       "    <tr>\n",
       "      <th>6</th>\n",
       "      <td>16491</td>\n",
       "      <td>[Naruto Shippuden: Shinobi Rumble, Feb  8, 201...</td>\n",
       "    </tr>\n",
       "    <tr>\n",
       "      <th>7</th>\n",
       "      <td>18770</td>\n",
       "      <td>[COPS 2170 The Power of Law, TBA, Strategy, Tu...</td>\n",
       "    </tr>\n",
       "    <tr>\n",
       "      <th>8</th>\n",
       "      <td>18838</td>\n",
       "      <td>[Painkiller Redemption, Feb 25, 2011, Action, ...</td>\n",
       "    </tr>\n",
       "  </tbody>\n",
       "</table>\n",
       "</div>"
      ],
      "text/plain": [
       "   index                                           contents\n",
       "0   9027  [Yatagarasu: Attack on Cataclysm, Jul  7, 2015...\n",
       "1  11014  [No Mans Land, Sep 15, 2017, Action, General, ...\n",
       "2  11433  [Dracula Origin, Dec 19, 2008, Adventure, Gene...\n",
       "3  12096  [Warlocks vs Shadows, TBA - Early Access, Role...\n",
       "4  12821  [Area 51, Aug  8, 2019, Strategy, Action Adven...\n",
       "5  14850  [P.I.D., Oct 13, 2020, Strategy, Adventure, Ge...\n",
       "6  16491  [Naruto Shippuden: Shinobi Rumble, Feb  8, 201...\n",
       "7  18770  [COPS 2170 The Power of Law, TBA, Strategy, Tu...\n",
       "8  18838  [Painkiller Redemption, Feb 25, 2011, Action, ..."
      ]
     },
     "execution_count": 480,
     "metadata": {},
     "output_type": "execute_result"
    }
   ],
   "source": [
    "# idx = 18838\n",
    "# for key in keys[:7]:\n",
    "#     if key=='title':\n",
    "#         x = [game_dict[key].pop(idx)]\n",
    "        \n",
    "#     else:\n",
    "#         x.append(game_dict[key].pop(idx))\n",
    "\n",
    "# popped['index'].append(idx)\n",
    "# popped['contents'].append(x)\n",
    "# pd.DataFrame(popped)   "
   ]
  },
  {
   "cell_type": "code",
   "execution_count": 336,
   "id": "cbe6e303",
   "metadata": {},
   "outputs": [],
   "source": [
    "summ = \\\n",
    "'''\n",
    "[Xbox Live Arcade] The future of reality TV is Smash TV! It's the game show that asks: \"How far would you go for a brand-new toaster?\" You could win a VCR ... or you might lose your life! This new version of the original arcade game features online multiplayer co-op and versus modes. Listen to the audience cheer as you risk life and limb in room after carnage-filled room. Can you make it to the legendary Pleasure Dome? Cash and fabulous prizes could be yours - but only if you survive. And with the likes of Mr. Shrapnel, Mutoid Man, and Scarface out to get you, it's not likely. Good luck ... you're going to need it! [Xbox.com]\n",
    "'''"
   ]
  },
  {
   "cell_type": "code",
   "execution_count": 337,
   "id": "bc17a291",
   "metadata": {},
   "outputs": [
    {
     "data": {
      "text/plain": [
       "'[Xbox Live Arcade] The future of reality TV is Smash TV! It\\'s the game show that asks: \"How far would you go for a brand-new toaster?\" You could win a VCR ... or you might lose your life! This new version of the original arcade game features online multiplayer co-op and versus modes. Listen to the audience cheer as you risk life and limb in room after carnage-filled room. Can you make it to the legendary Pleasure Dome? Cash and fabulous prizes could be yours - but only if you survive. And with the likes of Mr. Shrapnel, Mutoid Man, and Scarface out to get you, it\\'s not likely. Good luck ... you\\'re going to need it! [Xbox.com]'"
      ]
     },
     "execution_count": 337,
     "metadata": {},
     "output_type": "execute_result"
    }
   ],
   "source": [
    "summ = summ.strip()\n",
    "summ"
   ]
  },
  {
   "cell_type": "code",
   "execution_count": 338,
   "id": "32d52b01",
   "metadata": {},
   "outputs": [
    {
     "data": {
      "text/plain": [
       "False"
      ]
     },
     "execution_count": 338,
     "metadata": {},
     "output_type": "execute_result"
    }
   ],
   "source": [
    "summ in game_dict['summary']"
   ]
  },
  {
   "cell_type": "code",
   "execution_count": 14,
   "id": "ee786819",
   "metadata": {},
   "outputs": [
    {
     "data": {
      "text/html": [
       "<div>\n",
       "<style scoped>\n",
       "    .dataframe tbody tr th:only-of-type {\n",
       "        vertical-align: middle;\n",
       "    }\n",
       "\n",
       "    .dataframe tbody tr th {\n",
       "        vertical-align: top;\n",
       "    }\n",
       "\n",
       "    .dataframe thead th {\n",
       "        text-align: right;\n",
       "    }\n",
       "</style>\n",
       "<table border=\"1\" class=\"dataframe\">\n",
       "  <thead>\n",
       "    <tr style=\"text-align: right;\">\n",
       "      <th></th>\n",
       "      <th>title</th>\n",
       "      <th>release_date</th>\n",
       "      <th>genre</th>\n",
       "      <th>platforms</th>\n",
       "      <th>developer</th>\n",
       "      <th>esrb_rating</th>\n",
       "      <th>ESRBs</th>\n",
       "      <th>metascore</th>\n",
       "      <th>userscore</th>\n",
       "      <th>critic_reviews</th>\n",
       "      <th>user_reviews</th>\n",
       "      <th>num_players</th>\n",
       "      <th>summary</th>\n",
       "    </tr>\n",
       "  </thead>\n",
       "  <tbody>\n",
       "    <tr>\n",
       "      <th>0</th>\n",
       "      <td>Burnout 3: Takedown</td>\n",
       "      <td>Sep  7, 2004</td>\n",
       "      <td>Driving, Racing, Arcade</td>\n",
       "      <td>Xbox</td>\n",
       "      <td>Criterion Games</td>\n",
       "      <td>T</td>\n",
       "      <td>Mild Language Mild Violence</td>\n",
       "      <td>94</td>\n",
       "      <td>7.7</td>\n",
       "      <td>76</td>\n",
       "      <td>191.0</td>\n",
       "      <td>1-2 Players, 8 Players Online</td>\n",
       "      <td>Burnout 3 challenges you to crash into (and th...</td>\n",
       "    </tr>\n",
       "    <tr>\n",
       "      <th>1</th>\n",
       "      <td>Jet Grind Radio</td>\n",
       "      <td>Oct 30, 2000</td>\n",
       "      <td>Action, Platformer, 3D</td>\n",
       "      <td>Dreamcast</td>\n",
       "      <td>Smilebit</td>\n",
       "      <td>T</td>\n",
       "      <td>Animated Violence Mild Language</td>\n",
       "      <td>94</td>\n",
       "      <td>8.3</td>\n",
       "      <td>24</td>\n",
       "      <td>105.0</td>\n",
       "      <td>1 Player</td>\n",
       "      <td>Join a graffiti crew, stamp your territory and...</td>\n",
       "    </tr>\n",
       "    <tr>\n",
       "      <th>2</th>\n",
       "      <td>Metal Gear Solid 4: Guns of the Patriots</td>\n",
       "      <td>Jun 12, 2008</td>\n",
       "      <td>Action Adventure, Modern, General, Modern</td>\n",
       "      <td>PlayStation 3</td>\n",
       "      <td>Kojima Productions</td>\n",
       "      <td>M</td>\n",
       "      <td>Blood Crude Humor Strong Language Suggestive T...</td>\n",
       "      <td>94</td>\n",
       "      <td>8.8</td>\n",
       "      <td>82</td>\n",
       "      <td>4231.0</td>\n",
       "      <td>1 Player, 16 Players Online Up to 16 Players</td>\n",
       "      <td>Metal Gear Solid 4: Guns of the Patriots featu...</td>\n",
       "    </tr>\n",
       "    <tr>\n",
       "      <th>3</th>\n",
       "      <td>Tom Clancy's Splinter Cell Chaos Theory</td>\n",
       "      <td>Mar 28, 2005</td>\n",
       "      <td>Action Adventure, Modern</td>\n",
       "      <td>Xbox</td>\n",
       "      <td>Ubisoft Montreal</td>\n",
       "      <td>M</td>\n",
       "      <td>Blood Strong Language Violence</td>\n",
       "      <td>94</td>\n",
       "      <td>9.1</td>\n",
       "      <td>70</td>\n",
       "      <td>233.0</td>\n",
       "      <td>1-4 Players, 4 Players Online</td>\n",
       "      <td>As Sam Fisher, Third Echelon's most skilled Sp...</td>\n",
       "    </tr>\n",
       "    <tr>\n",
       "      <th>4</th>\n",
       "      <td>Call of Duty: Modern Warfare 2</td>\n",
       "      <td>Nov 10, 2009</td>\n",
       "      <td>Action, Shooter, Shooter, First-Person, Modern...</td>\n",
       "      <td>Xbox 360</td>\n",
       "      <td>Infinity Ward</td>\n",
       "      <td>M</td>\n",
       "      <td>Blood Drug Reference Intense Violence Language</td>\n",
       "      <td>94</td>\n",
       "      <td>6.6</td>\n",
       "      <td>100</td>\n",
       "      <td>3055.0</td>\n",
       "      <td>Up to 18 Players</td>\n",
       "      <td>Modern Warfare 2 continues the gripping and he...</td>\n",
       "    </tr>\n",
       "  </tbody>\n",
       "</table>\n",
       "</div>"
      ],
      "text/plain": [
       "                                      title  release_date  \\\n",
       "0                       Burnout 3: Takedown  Sep  7, 2004   \n",
       "1                           Jet Grind Radio  Oct 30, 2000   \n",
       "2  Metal Gear Solid 4: Guns of the Patriots  Jun 12, 2008   \n",
       "3   Tom Clancy's Splinter Cell Chaos Theory  Mar 28, 2005   \n",
       "4            Call of Duty: Modern Warfare 2  Nov 10, 2009   \n",
       "\n",
       "                                               genre      platforms  \\\n",
       "0                            Driving, Racing, Arcade           Xbox   \n",
       "1                             Action, Platformer, 3D      Dreamcast   \n",
       "2          Action Adventure, Modern, General, Modern  PlayStation 3   \n",
       "3                           Action Adventure, Modern           Xbox   \n",
       "4  Action, Shooter, Shooter, First-Person, Modern...       Xbox 360   \n",
       "\n",
       "            developer esrb_rating  \\\n",
       "0     Criterion Games           T   \n",
       "1            Smilebit           T   \n",
       "2  Kojima Productions           M   \n",
       "3    Ubisoft Montreal           M   \n",
       "4       Infinity Ward           M   \n",
       "\n",
       "                                               ESRBs  metascore userscore  \\\n",
       "0                        Mild Language Mild Violence         94       7.7   \n",
       "1                    Animated Violence Mild Language         94       8.3   \n",
       "2  Blood Crude Humor Strong Language Suggestive T...         94       8.8   \n",
       "3                     Blood Strong Language Violence         94       9.1   \n",
       "4     Blood Drug Reference Intense Violence Language         94       6.6   \n",
       "\n",
       "   critic_reviews  user_reviews                                   num_players  \\\n",
       "0              76         191.0                 1-2 Players, 8 Players Online   \n",
       "1              24         105.0                                      1 Player   \n",
       "2              82        4231.0  1 Player, 16 Players Online Up to 16 Players   \n",
       "3              70         233.0                 1-4 Players, 4 Players Online   \n",
       "4             100        3055.0                              Up to 18 Players   \n",
       "\n",
       "                                             summary  \n",
       "0  Burnout 3 challenges you to crash into (and th...  \n",
       "1  Join a graffiti crew, stamp your territory and...  \n",
       "2  Metal Gear Solid 4: Guns of the Patriots featu...  \n",
       "3  As Sam Fisher, Third Echelon's most skilled Sp...  \n",
       "4  Modern Warfare 2 continues the gripping and he...  "
      ]
     },
     "execution_count": 14,
     "metadata": {},
     "output_type": "execute_result"
    }
   ],
   "source": [
    "games_df = pd.DataFrame(game_dict).drop_duplicates()\n",
    "games_df"
   ]
  },
  {
   "cell_type": "code",
   "execution_count": 510,
   "id": "2a3b32ff",
   "metadata": {},
   "outputs": [],
   "source": [
    "# games_df.to_csv('metacritic_games_master.csv')"
   ]
  },
  {
   "cell_type": "markdown",
   "id": "ecae0711",
   "metadata": {},
   "source": [
    "# Parse Review Pages"
   ]
  },
  {
   "cell_type": "code",
   "execution_count": 517,
   "id": "c538778f",
   "metadata": {},
   "outputs": [],
   "source": [
    "review_links = list(links_df['review_links'])"
   ]
  },
  {
   "cell_type": "code",
   "execution_count": 536,
   "id": "674a9411",
   "metadata": {
    "scrolled": false
   },
   "outputs": [],
   "source": [
    "exclude_r = [link[:-7]+'user-reviews' for link in exclude]"
   ]
  },
  {
   "cell_type": "code",
   "execution_count": 540,
   "id": "5d660344",
   "metadata": {},
   "outputs": [
    {
     "data": {
      "text/plain": [
       "17"
      ]
     },
     "execution_count": 540,
     "metadata": {},
     "output_type": "execute_result"
    }
   ],
   "source": [
    "len(exclude_r)"
   ]
  },
  {
   "cell_type": "code",
   "execution_count": 541,
   "id": "b57dd1f0",
   "metadata": {},
   "outputs": [],
   "source": [
    "removes = []\n",
    "for i, link in enumerate(review_links):\n",
    "    if link in exclude_r:\n",
    "        removes.append(i)"
   ]
  },
  {
   "cell_type": "code",
   "execution_count": 549,
   "id": "85b79325",
   "metadata": {
    "scrolled": true
   },
   "outputs": [],
   "source": [
    "r_links = []\n",
    "for i, link in enumerate(review_links):\n",
    "    if i not in removes:\n",
    "        r_links.append(link)"
   ]
  },
  {
   "cell_type": "code",
   "execution_count": 550,
   "id": "5a3938f7",
   "metadata": {},
   "outputs": [
    {
     "data": {
      "text/plain": [
       "19318"
      ]
     },
     "execution_count": 550,
     "metadata": {},
     "output_type": "execute_result"
    }
   ],
   "source": [
    "len(r_links)"
   ]
  },
  {
   "cell_type": "code",
   "execution_count": 551,
   "id": "ddb04741",
   "metadata": {},
   "outputs": [
    {
     "data": {
      "text/plain": [
       "19335"
      ]
     },
     "execution_count": 551,
     "metadata": {},
     "output_type": "execute_result"
    }
   ],
   "source": [
    "len(review_links)"
   ]
  },
  {
   "cell_type": "code",
   "execution_count": 613,
   "id": "29f1bc9a",
   "metadata": {},
   "outputs": [],
   "source": [
    "# review_counts = {'counts':[], 'urls':[]}"
   ]
  },
  {
   "cell_type": "code",
   "execution_count": 657,
   "id": "f319e8aa",
   "metadata": {},
   "outputs": [
    {
     "data": {
      "text/plain": [
       "['https://www.metacritic.com/game/pc/coast-guard/user-reviews']"
      ]
     },
     "execution_count": 657,
     "metadata": {},
     "output_type": "execute_result"
    }
   ],
   "source": [
    "# failed_review_links = []\n",
    "failed_review_links"
   ]
  },
  {
   "cell_type": "code",
   "execution_count": 606,
   "id": "fa983d30",
   "metadata": {},
   "outputs": [],
   "source": [
    "def transform_reviews(url):  \n",
    "    \n",
    "    try:\n",
    "        response = requests.get(url, headers = user_agent)\n",
    "        soup = bs(response.text, 'html.parser')\n",
    "    except Exception as e:\n",
    "        print('\\n', sys.exc_info()[0],'|||', sys.exc_info()[1], '||| Error on line', sys.exc_info()[2].tb_lineno)\n",
    "        print(f'Trying Reviews again')\n",
    "        sleep(10)\n",
    "        response = requests.get(url, headers = user_agent)\n",
    "        soup = bs(response.text, 'html.parser')\n",
    "        \n",
    "        \n",
    "    count = 1\n",
    "    while soup.a==None and count<3:\n",
    "        print('Error, Trying Reviews Again')\n",
    "        sleep(10)\n",
    "        response = requests.get(url, headers = user_agent)\n",
    "        soup = bs(response.text, 'html.parser')\n",
    "        count += 1\n",
    "        print('Still None?:', soup.a==None)\n",
    "        print('response code:', response.status_code)\n",
    "    if soup.a==None:\n",
    "        print('Trying Review last time')\n",
    "        sleep(15)\n",
    "        response = requests.get(url+'/robots.text', headers = user_agent)\n",
    "        soup = bs(response.text, 'html.parser')\n",
    "        print('Still None?:', soup.a==None)\n",
    "        print('response code:', response.status_code)\n",
    "        if soup.find('a')==None:\n",
    "            print(f'Review Failed')\n",
    "            print(url)\n",
    "            failed_review_links.append(str(url))\n",
    "            playsound('ding.mp3')\n",
    "#             email(f'Failed to Connect to Page {page_num}')\n",
    "            return\n",
    "    \n",
    "    \n",
    "    if parse_reviews(soup, url)=='done':\n",
    "        print(f' {url} went wrong')\n",
    "        return\n",
    "    num = next(iterate)\n",
    "    review_counts['counts'].append(num)\n",
    "    review_counts['urls'].append(url)\n",
    "    return"
   ]
  },
  {
   "cell_type": "code",
   "execution_count": null,
   "id": "90db4193",
   "metadata": {
    "scrolled": false
   },
   "outputs": [],
   "source": [
    "# with futures.ThreadPoolExecutor() as getting:\n",
    "#     getting.map(transform_reviews, r_links[9000:])"
   ]
  },
  {
   "cell_type": "code",
   "execution_count": 658,
   "id": "21bbba5e",
   "metadata": {},
   "outputs": [],
   "source": [
    "# with futures.ThreadPoolExecutor() as getting:\n",
    "#     getting.map(transform_reviews, failed_review_links)"
   ]
  },
  {
   "cell_type": "code",
   "execution_count": 726,
   "id": "90d8adec",
   "metadata": {},
   "outputs": [
    {
     "data": {
      "text/html": [
       "<div>\n",
       "<style scoped>\n",
       "    .dataframe tbody tr th:only-of-type {\n",
       "        vertical-align: middle;\n",
       "    }\n",
       "\n",
       "    .dataframe tbody tr th {\n",
       "        vertical-align: top;\n",
       "    }\n",
       "\n",
       "    .dataframe thead th {\n",
       "        text-align: right;\n",
       "    }\n",
       "</style>\n",
       "<table border=\"1\" class=\"dataframe\">\n",
       "  <thead>\n",
       "    <tr style=\"text-align: right;\">\n",
       "      <th></th>\n",
       "      <th>user</th>\n",
       "      <th>name</th>\n",
       "      <th>game</th>\n",
       "      <th>rating</th>\n",
       "      <th>review</th>\n",
       "    </tr>\n",
       "  </thead>\n",
       "  <tbody>\n",
       "    <tr>\n",
       "      <th>0</th>\n",
       "      <td>118429</td>\n",
       "      <td>ThomasR.</td>\n",
       "      <td>Combat Mission: Barbarossa to Berlin</td>\n",
       "      <td>9</td>\n",
       "      <td>Needs a brush-up on the graphics.</td>\n",
       "    </tr>\n",
       "    <tr>\n",
       "      <th>1</th>\n",
       "      <td>58304</td>\n",
       "      <td>JoaquinD.</td>\n",
       "      <td>Combat Mission: Barbarossa to Berlin</td>\n",
       "      <td>10</td>\n",
       "      <td>Perfect strategic and tactical WWII wargame. ...</td>\n",
       "    </tr>\n",
       "    <tr>\n",
       "      <th>2</th>\n",
       "      <td>78199</td>\n",
       "      <td>MichaelDorosh</td>\n",
       "      <td>Combat Mission: Barbarossa to Berlin</td>\n",
       "      <td>10</td>\n",
       "      <td>Still the gold standard for WEGO, squad-based,...</td>\n",
       "    </tr>\n",
       "    <tr>\n",
       "      <th>3</th>\n",
       "      <td>143673</td>\n",
       "      <td>dinin70</td>\n",
       "      <td>Combat Mission: Barbarossa to Berlin</td>\n",
       "      <td>9</td>\n",
       "      <td>I don't think it deserves 10/10 for a simple r...</td>\n",
       "    </tr>\n",
       "    <tr>\n",
       "      <th>4</th>\n",
       "      <td>14454</td>\n",
       "      <td>BlueFalcon</td>\n",
       "      <td>NHL 2002</td>\n",
       "      <td>6</td>\n",
       "      <td>I was hyped about this release at the time, b...</td>\n",
       "    </tr>\n",
       "    <tr>\n",
       "      <th>...</th>\n",
       "      <td>...</td>\n",
       "      <td>...</td>\n",
       "      <td>...</td>\n",
       "      <td>...</td>\n",
       "      <td>...</td>\n",
       "    </tr>\n",
       "    <tr>\n",
       "      <th>368885</th>\n",
       "      <td>16879</td>\n",
       "      <td>Buckshot</td>\n",
       "      <td>Ride to Hell: Retribution</td>\n",
       "      <td>0</td>\n",
       "      <td>It is just  The guys who made this game should...</td>\n",
       "    </tr>\n",
       "    <tr>\n",
       "      <th>368886</th>\n",
       "      <td>126201</td>\n",
       "      <td>WayT101</td>\n",
       "      <td>Ride to Hell: Retribution</td>\n",
       "      <td>0</td>\n",
       "      <td>The 1% in this games title refers to this game...</td>\n",
       "    </tr>\n",
       "    <tr>\n",
       "      <th>368887</th>\n",
       "      <td>116801</td>\n",
       "      <td>TheKidWanted</td>\n",
       "      <td>Ride to Hell: Retribution</td>\n",
       "      <td>0</td>\n",
       "      <td>Ride to Hell:\\r -Poor A.I-\\r-Poor Storyline-\\r...</td>\n",
       "    </tr>\n",
       "    <tr>\n",
       "      <th>368888</th>\n",
       "      <td>60903</td>\n",
       "      <td>Julzso23</td>\n",
       "      <td>Ride to Hell: Retribution</td>\n",
       "      <td>0</td>\n",
       "      <td>Possibly the worst game I have ever seen in a ...</td>\n",
       "    </tr>\n",
       "    <tr>\n",
       "      <th>368889</th>\n",
       "      <td>14673</td>\n",
       "      <td>BobBaumeister</td>\n",
       "      <td>Coast Guard</td>\n",
       "      <td>8</td>\n",
       "      <td>This game is not a AAA but it the story about ...</td>\n",
       "    </tr>\n",
       "  </tbody>\n",
       "</table>\n",
       "<p>555661 rows × 5 columns</p>\n",
       "</div>"
      ],
      "text/plain": [
       "          user           name                                  game rating  \\\n",
       "0       118429       ThomasR.  Combat Mission: Barbarossa to Berlin      9   \n",
       "1        58304      JoaquinD.  Combat Mission: Barbarossa to Berlin     10   \n",
       "2        78199  MichaelDorosh  Combat Mission: Barbarossa to Berlin     10   \n",
       "3       143673        dinin70  Combat Mission: Barbarossa to Berlin      9   \n",
       "4        14454     BlueFalcon                              NHL 2002      6   \n",
       "...        ...            ...                                   ...    ...   \n",
       "368885   16879       Buckshot             Ride to Hell: Retribution      0   \n",
       "368886  126201        WayT101             Ride to Hell: Retribution      0   \n",
       "368887  116801   TheKidWanted             Ride to Hell: Retribution      0   \n",
       "368888   60903       Julzso23             Ride to Hell: Retribution      0   \n",
       "368889   14673  BobBaumeister                           Coast Guard      8   \n",
       "\n",
       "                                                   review  \n",
       "0                       Needs a brush-up on the graphics.  \n",
       "1        Perfect strategic and tactical WWII wargame. ...  \n",
       "2       Still the gold standard for WEGO, squad-based,...  \n",
       "3       I don't think it deserves 10/10 for a simple r...  \n",
       "4        I was hyped about this release at the time, b...  \n",
       "...                                                   ...  \n",
       "368885  It is just  The guys who made this game should...  \n",
       "368886  The 1% in this games title refers to this game...  \n",
       "368887  Ride to Hell:\\r -Poor A.I-\\r-Poor Storyline-\\r...  \n",
       "368888  Possibly the worst game I have ever seen in a ...  \n",
       "368889  This game is not a AAA but it the story about ...  \n",
       "\n",
       "[555661 rows x 5 columns]"
      ]
     },
     "execution_count": 726,
     "metadata": {},
     "output_type": "execute_result"
    }
   ],
   "source": [
    "reviews= pd.DataFrame(review_dict).drop_duplicates()\n",
    "reviews['user'] = reviews.groupby('name').ngroup()\n",
    "reviews = reviews[['user','name','game','rating','review']]\n",
    "reviews"
   ]
  },
  {
   "cell_type": "code",
   "execution_count": 700,
   "id": "b6aa6b9a",
   "metadata": {},
   "outputs": [],
   "source": [
    "# reviews.to_csv('metacritic_reviews_main.csv')"
   ]
  },
  {
   "cell_type": "code",
   "execution_count": null,
   "id": "b4c281a0",
   "metadata": {},
   "outputs": [],
   "source": [
    "# def get_reviews_per_game(startpage_link, next_page, end_page, game_num_start, game_num_end = 101): \n",
    "#     next_page = next_page\n",
    "#     print(f'parsing page: {next_page-1}/{end_page}')\n",
    "    \n",
    "#     try:\n",
    "#         response = requests.get(startpage_link, headers = user_agent)\n",
    "#         soup = bs(response.text, 'html.parser')\n",
    "#         current_page = int(soup.find('span', class_='page_num').text)\n",
    "#     except:\n",
    "#         playsound('ding.mp3')\n",
    "    \n",
    "# #     Loop through current page and extract links to game pages\n",
    "#     game_num = game_num_start\n",
    "#     for game in soup.find_all('a', attrs = {'class':'title'})[game_num - 1:game_num_end]:\n",
    "#         game_link = url + game.get('href')\n",
    "        \n",
    "# #         Connects to game page summary\n",
    "#         sleep(3)\n",
    "#         try:\n",
    "#             game_response = requests.get(game_link, headers = user_agent)\n",
    "#             game_soup = bs(game_response.text, 'html.parser')\n",
    "#         except:\n",
    "#             playsound('ding.mp3')\n",
    "        \n",
    "# #         testing\n",
    "        \n",
    "        \n",
    "#         count = 1\n",
    "#         while game_soup.a==None and count<2:\n",
    "#             print('Error, Trying GAME Again')\n",
    "#             sleep(3)\n",
    "#             game_response = requests.get(game_link, headers = user_agent)\n",
    "#             game_soup = bs(game_response.text, 'html.parser')\n",
    "#             count += 1\n",
    "#             print('Still None?:', game_soup.a==None)\n",
    "#             print('response code:', game_response.status_code)\n",
    "        \n",
    "#         if game_soup.a==None:\n",
    "#             sleep(3)\n",
    "#             game_response = requests.get(game_link+'/robots.text', headers = user_agent)\n",
    "#             game_soup = bs(details_response.text, 'html.parser')\n",
    "#             if game_soup.find('a')==None:\n",
    "#                 print(f'Game {game_num} GAME Failed')\n",
    "#                 playsound('ding.mp3')\n",
    "#                 return\n",
    "            \n",
    "            \n",
    "# #         get number of reviews\n",
    "#         try:\n",
    "#             if \n",
    "        \n",
    "#             num_games['num_games'].append(int(game_soup.find_all('p', class_='see_all')[1].text.split()[2]))\n",
    "#             num_games['title'].append(game_soup.find('h1').text)    \n",
    "            \n",
    "            \n",
    "#         print(f'Game {game_num} completed')\n",
    "#         game_num +=1\n",
    "        \n",
    "#     if next_page == (end_page+1):\n",
    "#         find_next_page = soup.find('a', class_='page_num', string = f'{next_page}')\n",
    "#         startpage_link = url + find_next_page.get('href')\n",
    "#         print(f'Done, Next Start Page: {startpage_link}')\n",
    "#         print('Copy and Paste the link to start_page or use startpage_link variable')\n",
    "#         playsound('ding.mp3')\n",
    "#         return startpage_link\n",
    "#     if next_page>(end_page+1):\n",
    "#         print('Increase End page')\n",
    "#         playsound('ding.mp3')\n",
    "#         return\n",
    "#     if current_page>next_page:\n",
    "#         print('Increase Next page')\n",
    "#         playsound('ding.mp3')\n",
    "#         return\n",
    "#     sleep(3)\n",
    "    \n",
    "# #     Recurse through the following pages\n",
    "#     find_next_page = soup.find('a', class_='page_num', string = f'{next_page}')\n",
    "#     nextpage_link = url + find_next_page.get('href')\n",
    "#     next_page += 1\n",
    "#     get_reviews_per_game(nextpage_link, next_page, end_page, game_num_start = 1, game_num_end = 101)"
   ]
  }
 ],
 "metadata": {
  "kernelspec": {
   "display_name": "Python 3 (ipykernel)",
   "language": "python",
   "name": "python3"
  },
  "language_info": {
   "codemirror_mode": {
    "name": "ipython",
    "version": 3
   },
   "file_extension": ".py",
   "mimetype": "text/x-python",
   "name": "python",
   "nbconvert_exporter": "python",
   "pygments_lexer": "ipython3",
   "version": "3.9.7"
  }
 },
 "nbformat": 4,
 "nbformat_minor": 5
}
