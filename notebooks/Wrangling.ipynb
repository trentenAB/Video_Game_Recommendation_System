{
 "cells": [
  {
   "cell_type": "markdown",
   "id": "92c84237",
   "metadata": {},
   "source": [
    "# Wrangling"
   ]
  },
  {
   "cell_type": "code",
   "execution_count": 1,
   "id": "c5da53d5",
   "metadata": {},
   "outputs": [
    {
     "data": {
      "text/html": [
       "        <script type=\"text/javascript\">\n",
       "        window.PlotlyConfig = {MathJaxConfig: 'local'};\n",
       "        if (window.MathJax) {MathJax.Hub.Config({SVG: {font: \"STIX-Web\"}});}\n",
       "        if (typeof require !== 'undefined') {\n",
       "        require.undef(\"plotly\");\n",
       "        requirejs.config({\n",
       "            paths: {\n",
       "                'plotly': ['https://cdn.plot.ly/plotly-2.9.0.min']\n",
       "            }\n",
       "        });\n",
       "        require(['plotly'], function(Plotly) {\n",
       "            window._Plotly = Plotly;\n",
       "        });\n",
       "        }\n",
       "        </script>\n",
       "        "
      ]
     },
     "metadata": {},
     "output_type": "display_data"
    },
    {
     "data": {
      "text/html": [
       "        <script type=\"text/javascript\">\n",
       "        window.PlotlyConfig = {MathJaxConfig: 'local'};\n",
       "        if (window.MathJax) {MathJax.Hub.Config({SVG: {font: \"STIX-Web\"}});}\n",
       "        if (typeof require !== 'undefined') {\n",
       "        require.undef(\"plotly\");\n",
       "        requirejs.config({\n",
       "            paths: {\n",
       "                'plotly': ['https://cdn.plot.ly/plotly-2.9.0.min']\n",
       "            }\n",
       "        });\n",
       "        require(['plotly'], function(Plotly) {\n",
       "            window._Plotly = Plotly;\n",
       "        });\n",
       "        }\n",
       "        </script>\n",
       "        "
      ]
     },
     "metadata": {},
     "output_type": "display_data"
    }
   ],
   "source": [
    "import pandas as pd\n",
    "import re\n",
    "import sys\n",
    "import seaborn as sns\n",
    "import matplotlib.pyplot as plt\n",
    "import numpy as np\n",
    "import datetime\n",
    "from datetime import datetime\n",
    "import calendar\n",
    "from sklearn.metrics import jaccard_score as jscore\n",
    "from scipy.spatial.distance import pdist, squareform\n",
    "from sklearn.feature_extraction.text import TfidfVectorizer\n",
    "from sklearn.metrics.pairwise import cosine_similarity\n",
    "from nltk.corpus import stopwords as sw\n",
    "import chart_studio.plotly as py\n",
    "import cufflinks as cf\n",
    "import plotly.express as px\n",
    "from plotly.offline import download_plotlyjs, init_notebook_mode, plot, iplot\n",
    "init_notebook_mode(connected=True)\n",
    "cf.go_offline()\n",
    "%matplotlib inline"
   ]
  },
  {
   "cell_type": "code",
   "execution_count": 2,
   "id": "75888816",
   "metadata": {},
   "outputs": [
    {
     "data": {
      "text/html": [
       "<div>\n",
       "<style scoped>\n",
       "    .dataframe tbody tr th:only-of-type {\n",
       "        vertical-align: middle;\n",
       "    }\n",
       "\n",
       "    .dataframe tbody tr th {\n",
       "        vertical-align: top;\n",
       "    }\n",
       "\n",
       "    .dataframe thead th {\n",
       "        text-align: right;\n",
       "    }\n",
       "</style>\n",
       "<table border=\"1\" class=\"dataframe\">\n",
       "  <thead>\n",
       "    <tr style=\"text-align: right;\">\n",
       "      <th></th>\n",
       "      <th>title</th>\n",
       "      <th>release_date</th>\n",
       "      <th>platforms</th>\n",
       "      <th>developer</th>\n",
       "      <th>esrb_rating</th>\n",
       "      <th>ESRBs</th>\n",
       "      <th>metascore</th>\n",
       "      <th>userscore</th>\n",
       "      <th>critic_reviews</th>\n",
       "      <th>user_reviews</th>\n",
       "      <th>num_players</th>\n",
       "      <th>summary</th>\n",
       "      <th>genres</th>\n",
       "    </tr>\n",
       "  </thead>\n",
       "  <tbody>\n",
       "    <tr>\n",
       "      <th>0</th>\n",
       "      <td>Burnout 3: Takedown</td>\n",
       "      <td>Sep  7, 2004</td>\n",
       "      <td>Xbox</td>\n",
       "      <td>Criterion Games</td>\n",
       "      <td>T</td>\n",
       "      <td>Mild Language Mild Violence</td>\n",
       "      <td>94</td>\n",
       "      <td>7.7</td>\n",
       "      <td>76</td>\n",
       "      <td>191.0</td>\n",
       "      <td>1-2 Players, 8 Players Online</td>\n",
       "      <td>Burnout 3 challenges you to crash into (and th...</td>\n",
       "      <td>Arcade,  Racing, Driving</td>\n",
       "    </tr>\n",
       "    <tr>\n",
       "      <th>1</th>\n",
       "      <td>Jet Grind Radio</td>\n",
       "      <td>Oct 30, 2000</td>\n",
       "      <td>Dreamcast</td>\n",
       "      <td>Smilebit</td>\n",
       "      <td>T</td>\n",
       "      <td>Animated Violence Mild Language</td>\n",
       "      <td>94</td>\n",
       "      <td>8.3</td>\n",
       "      <td>24</td>\n",
       "      <td>105.0</td>\n",
       "      <td>1 Player</td>\n",
       "      <td>Join a graffiti crew, stamp your territory and...</td>\n",
       "      <td>3D,  Platformer, Action</td>\n",
       "    </tr>\n",
       "    <tr>\n",
       "      <th>2</th>\n",
       "      <td>Metal Gear Solid 4: Guns of the Patriots</td>\n",
       "      <td>Jun 12, 2008</td>\n",
       "      <td>PlayStation 3</td>\n",
       "      <td>Kojima Productions</td>\n",
       "      <td>M</td>\n",
       "      <td>Blood Crude Humor Strong Language Suggestive T...</td>\n",
       "      <td>94</td>\n",
       "      <td>8.8</td>\n",
       "      <td>82</td>\n",
       "      <td>4231.0</td>\n",
       "      <td>1 Player, 16 Players Online Up to 16 Players</td>\n",
       "      <td>Metal Gear Solid 4: Guns of the Patriots featu...</td>\n",
       "      <td>General,  Modern, Action Adventure</td>\n",
       "    </tr>\n",
       "    <tr>\n",
       "      <th>3</th>\n",
       "      <td>Tom Clancy's Splinter Cell Chaos Theory</td>\n",
       "      <td>Mar 28, 2005</td>\n",
       "      <td>Xbox</td>\n",
       "      <td>Ubisoft Montreal</td>\n",
       "      <td>M</td>\n",
       "      <td>Blood Strong Language Violence</td>\n",
       "      <td>94</td>\n",
       "      <td>9.1</td>\n",
       "      <td>70</td>\n",
       "      <td>233.0</td>\n",
       "      <td>1-4 Players, 4 Players Online</td>\n",
       "      <td>As Sam Fisher, Third Echelon's most skilled Sp...</td>\n",
       "      <td>Modern, Action Adventure</td>\n",
       "    </tr>\n",
       "    <tr>\n",
       "      <th>4</th>\n",
       "      <td>Call of Duty: Modern Warfare 2</td>\n",
       "      <td>Nov 10, 2009</td>\n",
       "      <td>Xbox 360</td>\n",
       "      <td>Infinity Ward</td>\n",
       "      <td>M</td>\n",
       "      <td>Blood Drug Reference Intense Violence Language</td>\n",
       "      <td>94</td>\n",
       "      <td>6.6</td>\n",
       "      <td>100</td>\n",
       "      <td>3055.0</td>\n",
       "      <td>Up to 18 Players</td>\n",
       "      <td>Modern Warfare 2 continues the gripping and he...</td>\n",
       "      <td>Arcade,  First-Person,  Modern,  Shooter, Action</td>\n",
       "    </tr>\n",
       "  </tbody>\n",
       "</table>\n",
       "</div>"
      ],
      "text/plain": [
       "                                      title  release_date      platforms  \\\n",
       "0                       Burnout 3: Takedown  Sep  7, 2004           Xbox   \n",
       "1                           Jet Grind Radio  Oct 30, 2000      Dreamcast   \n",
       "2  Metal Gear Solid 4: Guns of the Patriots  Jun 12, 2008  PlayStation 3   \n",
       "3   Tom Clancy's Splinter Cell Chaos Theory  Mar 28, 2005           Xbox   \n",
       "4            Call of Duty: Modern Warfare 2  Nov 10, 2009       Xbox 360   \n",
       "\n",
       "            developer esrb_rating  \\\n",
       "0     Criterion Games           T   \n",
       "1            Smilebit           T   \n",
       "2  Kojima Productions           M   \n",
       "3    Ubisoft Montreal           M   \n",
       "4       Infinity Ward           M   \n",
       "\n",
       "                                               ESRBs  metascore userscore  \\\n",
       "0                        Mild Language Mild Violence         94       7.7   \n",
       "1                    Animated Violence Mild Language         94       8.3   \n",
       "2  Blood Crude Humor Strong Language Suggestive T...         94       8.8   \n",
       "3                     Blood Strong Language Violence         94       9.1   \n",
       "4     Blood Drug Reference Intense Violence Language         94       6.6   \n",
       "\n",
       "   critic_reviews  user_reviews                                   num_players  \\\n",
       "0              76         191.0                 1-2 Players, 8 Players Online   \n",
       "1              24         105.0                                      1 Player   \n",
       "2              82        4231.0  1 Player, 16 Players Online Up to 16 Players   \n",
       "3              70         233.0                 1-4 Players, 4 Players Online   \n",
       "4             100        3055.0                              Up to 18 Players   \n",
       "\n",
       "                                             summary  \\\n",
       "0  Burnout 3 challenges you to crash into (and th...   \n",
       "1  Join a graffiti crew, stamp your territory and...   \n",
       "2  Metal Gear Solid 4: Guns of the Patriots featu...   \n",
       "3  As Sam Fisher, Third Echelon's most skilled Sp...   \n",
       "4  Modern Warfare 2 continues the gripping and he...   \n",
       "\n",
       "                                             genres  \n",
       "0                          Arcade,  Racing, Driving  \n",
       "1                           3D,  Platformer, Action  \n",
       "2                General,  Modern, Action Adventure  \n",
       "3                          Modern, Action Adventure  \n",
       "4  Arcade,  First-Person,  Modern,  Shooter, Action  "
      ]
     },
     "execution_count": 2,
     "metadata": {},
     "output_type": "execute_result"
    }
   ],
   "source": [
    "games = pd.read_csv('metacritic_games_master2.csv').drop(['Unnamed: 0'], axis = 1)\n",
    "genre_norepeat = [', '.join(sorted(set(i.split(',')))).strip() for i in games.genre.values]\n",
    "games['genres'] = genre_norepeat\n",
    "games = games.drop(columns='genre')\n",
    "games.head()"
   ]
  },
  {
   "cell_type": "code",
   "execution_count": 3,
   "id": "2acae0d9",
   "metadata": {},
   "outputs": [
    {
     "name": "stdout",
     "output_type": "stream",
     "text": [
      "<class 'pandas.core.frame.DataFrame'>\n",
      "RangeIndex: 19317 entries, 0 to 19316\n",
      "Data columns (total 13 columns):\n",
      " #   Column          Non-Null Count  Dtype  \n",
      "---  ------          --------------  -----  \n",
      " 0   title           19317 non-null  object \n",
      " 1   release_date    19317 non-null  object \n",
      " 2   platforms       19317 non-null  object \n",
      " 3   developer       19298 non-null  object \n",
      " 4   esrb_rating     17202 non-null  object \n",
      " 5   ESRBs           7855 non-null   object \n",
      " 6   metascore       19317 non-null  int64  \n",
      " 7   userscore       19317 non-null  object \n",
      " 8   critic_reviews  19317 non-null  int64  \n",
      " 9   user_reviews    17953 non-null  float64\n",
      " 10  num_players     19304 non-null  object \n",
      " 11  summary         19199 non-null  object \n",
      " 12  genres          19317 non-null  object \n",
      "dtypes: float64(1), int64(2), object(10)\n",
      "memory usage: 1.9+ MB\n"
     ]
    }
   ],
   "source": [
    "games.info()"
   ]
  },
  {
   "cell_type": "code",
   "execution_count": 4,
   "id": "76e4082b",
   "metadata": {},
   "outputs": [
    {
     "name": "stdout",
     "output_type": "stream",
     "text": [
      "\n",
      " <class 'dateutil.parser._parser.ParserError'> \n",
      " Unknown string format: \n",
      "PC,                                                                            PlayStation 4,                                                                            PlayStation 5,                                                                            PlayStation Vita,                                                                            Xbox One \n"
     ]
    }
   ],
   "source": [
    "# try to convert release date column to datetime type\n",
    "try:\n",
    "    pd.to_datetime(games.release_date, infer_datetime_format=True)\n",
    "except Exception as e:\n",
    "    print('\\n', sys.exc_info()[0],'\\n', sys.exc_info()[1])"
   ]
  },
  {
   "cell_type": "code",
   "execution_count": 5,
   "id": "b52a1533",
   "metadata": {},
   "outputs": [
    {
     "data": {
      "text/html": [
       "<div>\n",
       "<style scoped>\n",
       "    .dataframe tbody tr th:only-of-type {\n",
       "        vertical-align: middle;\n",
       "    }\n",
       "\n",
       "    .dataframe tbody tr th {\n",
       "        vertical-align: top;\n",
       "    }\n",
       "\n",
       "    .dataframe thead th {\n",
       "        text-align: right;\n",
       "    }\n",
       "</style>\n",
       "<table border=\"1\" class=\"dataframe\">\n",
       "  <thead>\n",
       "    <tr style=\"text-align: right;\">\n",
       "      <th></th>\n",
       "      <th>title</th>\n",
       "      <th>release_date</th>\n",
       "      <th>platforms</th>\n",
       "      <th>developer</th>\n",
       "      <th>esrb_rating</th>\n",
       "      <th>ESRBs</th>\n",
       "      <th>metascore</th>\n",
       "      <th>userscore</th>\n",
       "      <th>critic_reviews</th>\n",
       "      <th>user_reviews</th>\n",
       "      <th>num_players</th>\n",
       "      <th>summary</th>\n",
       "      <th>genres</th>\n",
       "    </tr>\n",
       "  </thead>\n",
       "  <tbody>\n",
       "    <tr>\n",
       "      <th>19240</th>\n",
       "      <td>Wild West Online</td>\n",
       "      <td>Welcome to the emergent open world, Wild West-...</td>\n",
       "      <td>PC</td>\n",
       "      <td>NaN</td>\n",
       "      <td>NaN</td>\n",
       "      <td>NaN</td>\n",
       "      <td>29</td>\n",
       "      <td>1.5</td>\n",
       "      <td>8</td>\n",
       "      <td>52.0</td>\n",
       "      <td>Massively Multiplayer Online Multiplayer</td>\n",
       "      <td>NaN</td>\n",
       "      <td>Massively Multiplayer, Role-Playing</td>\n",
       "    </tr>\n",
       "  </tbody>\n",
       "</table>\n",
       "</div>"
      ],
      "text/plain": [
       "                  title                                       release_date  \\\n",
       "19240  Wild West Online  Welcome to the emergent open world, Wild West-...   \n",
       "\n",
       "      platforms developer esrb_rating ESRBs  metascore userscore  \\\n",
       "19240        PC       NaN         NaN   NaN         29       1.5   \n",
       "\n",
       "       critic_reviews  user_reviews                               num_players  \\\n",
       "19240               8          52.0  Massively Multiplayer Online Multiplayer   \n",
       "\n",
       "      summary                               genres  \n",
       "19240     NaN  Massively Multiplayer, Role-Playing  "
      ]
     },
     "execution_count": 5,
     "metadata": {},
     "output_type": "execute_result"
    }
   ],
   "source": [
    "# This summary was found in the release date column for some reason\n",
    "summary = 'Welcome to the emergent open world, Wild West-themed action MMO featuring world exploration, resource gathering, PvP combat, PvE missions and much, much more.\\r\\n'\n",
    "games[games.release_date==summary]"
   ]
  },
  {
   "cell_type": "code",
   "execution_count": 6,
   "id": "f6c50edb",
   "metadata": {},
   "outputs": [
    {
     "data": {
      "text/plain": [
       "title                                              Wild West Online\n",
       "release_date                                           May 10, 2018\n",
       "platforms                                                        PC\n",
       "developer                                                       NaN\n",
       "esrb_rating                                                     NaN\n",
       "ESRBs                                                           NaN\n",
       "metascore                                                        29\n",
       "userscore                                                       1.5\n",
       "critic_reviews                                                    8\n",
       "user_reviews                                                   52.0\n",
       "num_players                Massively Multiplayer Online Multiplayer\n",
       "summary           Welcome to the emergent open world, Wild West-...\n",
       "genres                          Massively Multiplayer, Role-Playing\n",
       "Name: 19240, dtype: object"
      ]
     },
     "execution_count": 6,
     "metadata": {},
     "output_type": "execute_result"
    }
   ],
   "source": [
    "# put summary in summary column and get release date from website for Wild West Online\n",
    "games.iloc[19240, -2] = summary.strip()\n",
    "wwo_rdate = 'May 10, 2018'\n",
    "games.iloc[19240, 1] = wwo_rdate\n",
    "games.iloc[19240, :]"
   ]
  },
  {
   "cell_type": "markdown",
   "id": "06b4e964",
   "metadata": {},
   "source": [
    "Lets check for more rows without dates in the `release_date` column"
   ]
  },
  {
   "cell_type": "code",
   "execution_count": 7,
   "id": "3d80bc96",
   "metadata": {
    "scrolled": false
   },
   "outputs": [
    {
     "data": {
      "text/plain": [
       "[4744, 6392, 6954, 8882, 11501, 11764, 16180, 17071, 17343, 18193]"
      ]
     },
     "execution_count": 7,
     "metadata": {},
     "output_type": "execute_result"
    }
   ],
   "source": [
    "# look for any instances of values that cannot be converted to datetime\n",
    "non_date_indices = []\n",
    "for i in range(len(games.release_date)):\n",
    "    try:\n",
    "        datetime.strptime(games.release_date[i].replace(',', ''), '%b %d %Y')\n",
    "    except:\n",
    "        non_date_indices.append(i)\n",
    "non_date_indices"
   ]
  },
  {
   "cell_type": "code",
   "execution_count": 8,
   "id": "0536c050",
   "metadata": {},
   "outputs": [
    {
     "data": {
      "text/html": [
       "<div>\n",
       "<style scoped>\n",
       "    .dataframe tbody tr th:only-of-type {\n",
       "        vertical-align: middle;\n",
       "    }\n",
       "\n",
       "    .dataframe tbody tr th {\n",
       "        vertical-align: top;\n",
       "    }\n",
       "\n",
       "    .dataframe thead th {\n",
       "        text-align: right;\n",
       "    }\n",
       "</style>\n",
       "<table border=\"1\" class=\"dataframe\">\n",
       "  <thead>\n",
       "    <tr style=\"text-align: right;\">\n",
       "      <th></th>\n",
       "      <th>title</th>\n",
       "      <th>release_date</th>\n",
       "      <th>platforms</th>\n",
       "      <th>developer</th>\n",
       "      <th>esrb_rating</th>\n",
       "      <th>ESRBs</th>\n",
       "      <th>metascore</th>\n",
       "      <th>userscore</th>\n",
       "      <th>critic_reviews</th>\n",
       "      <th>user_reviews</th>\n",
       "      <th>num_players</th>\n",
       "      <th>summary</th>\n",
       "      <th>genres</th>\n",
       "    </tr>\n",
       "  </thead>\n",
       "  <tbody>\n",
       "    <tr>\n",
       "      <th>4744</th>\n",
       "      <td>ScourgeBringer</td>\n",
       "      <td>\\nPC,                                         ...</td>\n",
       "      <td>Switch</td>\n",
       "      <td>Flying Oak Games</td>\n",
       "      <td>NaN</td>\n",
       "      <td>NaN</td>\n",
       "      <td>80</td>\n",
       "      <td>7.4</td>\n",
       "      <td>9</td>\n",
       "      <td>8.0</td>\n",
       "      <td>1 Player</td>\n",
       "      <td>NaN</td>\n",
       "      <td>2D,  Platformer, Action</td>\n",
       "    </tr>\n",
       "    <tr>\n",
       "      <th>6392</th>\n",
       "      <td>Everyday Shooter</td>\n",
       "      <td>\\nPlayStation 3</td>\n",
       "      <td>PC</td>\n",
       "      <td>Queasy Games</td>\n",
       "      <td>NaN</td>\n",
       "      <td>NaN</td>\n",
       "      <td>77</td>\n",
       "      <td>7.6</td>\n",
       "      <td>7</td>\n",
       "      <td>11.0</td>\n",
       "      <td>1 Player</td>\n",
       "      <td>NaN</td>\n",
       "      <td>Shoot-'Em-Up,  Shooter,  Static,  Top-Down, Ac...</td>\n",
       "    </tr>\n",
       "    <tr>\n",
       "      <th>6954</th>\n",
       "      <td>Secret World Legends</td>\n",
       "      <td>Fight a secret war of the supernatural. Where ...</td>\n",
       "      <td>PC</td>\n",
       "      <td>Funcom</td>\n",
       "      <td>NaN</td>\n",
       "      <td>NaN</td>\n",
       "      <td>76</td>\n",
       "      <td>5.2</td>\n",
       "      <td>9</td>\n",
       "      <td>49.0</td>\n",
       "      <td>1 Player</td>\n",
       "      <td>NaN</td>\n",
       "      <td>Action Adventure,  General,  Massively Multipl...</td>\n",
       "    </tr>\n",
       "    <tr>\n",
       "      <th>8882</th>\n",
       "      <td>Orcs Must Die! 3</td>\n",
       "      <td>\\nPC,                                         ...</td>\n",
       "      <td>Stadia</td>\n",
       "      <td>Robot Entertainment</td>\n",
       "      <td>T</td>\n",
       "      <td>NaN</td>\n",
       "      <td>73</td>\n",
       "      <td>7.7</td>\n",
       "      <td>15</td>\n",
       "      <td>81.0</td>\n",
       "      <td>1 Player</td>\n",
       "      <td>NaN</td>\n",
       "      <td>Defense,  Real-Time, Strategy</td>\n",
       "    </tr>\n",
       "    <tr>\n",
       "      <th>11501</th>\n",
       "      <td>Tracks: The Train Set Game</td>\n",
       "      <td>\\nPC,                                         ...</td>\n",
       "      <td>Xbox One</td>\n",
       "      <td>Whoop Group</td>\n",
       "      <td>E</td>\n",
       "      <td>NaN</td>\n",
       "      <td>69</td>\n",
       "      <td>5.5</td>\n",
       "      <td>8</td>\n",
       "      <td>11.0</td>\n",
       "      <td>1 Player</td>\n",
       "      <td>NaN</td>\n",
       "      <td>Business / Tycoon,  Management, Strategy</td>\n",
       "    </tr>\n",
       "    <tr>\n",
       "      <th>11764</th>\n",
       "      <td>Buzz! Junior: Dino Den</td>\n",
       "      <td>The next installment in the Buzz series.</td>\n",
       "      <td>PlayStation 2</td>\n",
       "      <td>SCEE</td>\n",
       "      <td>NaN</td>\n",
       "      <td>NaN</td>\n",
       "      <td>69</td>\n",
       "      <td>tbd</td>\n",
       "      <td>8</td>\n",
       "      <td>NaN</td>\n",
       "      <td>1-4 Players</td>\n",
       "      <td>NaN</td>\n",
       "      <td>Trivia / Game Show, Miscellaneous</td>\n",
       "    </tr>\n",
       "    <tr>\n",
       "      <th>16180</th>\n",
       "      <td>Warcraft III: Reforged</td>\n",
       "      <td>A Classic Favorite, Reforged. Warcraft III: Re...</td>\n",
       "      <td>PC</td>\n",
       "      <td>Blizzard Entertainment</td>\n",
       "      <td>T</td>\n",
       "      <td>NaN</td>\n",
       "      <td>59</td>\n",
       "      <td>0.6</td>\n",
       "      <td>46</td>\n",
       "      <td>30913.0</td>\n",
       "      <td>Online Multiplayer</td>\n",
       "      <td>NaN</td>\n",
       "      <td>General,  Real-Time, Strategy</td>\n",
       "    </tr>\n",
       "    <tr>\n",
       "      <th>17071</th>\n",
       "      <td>Empyre: Lords of the Sea Gates</td>\n",
       "      <td>New York in 1911 is flooded. Avenues are now c...</td>\n",
       "      <td>PC</td>\n",
       "      <td>Coin Operated Games</td>\n",
       "      <td>NaN</td>\n",
       "      <td>NaN</td>\n",
       "      <td>56</td>\n",
       "      <td>tbd</td>\n",
       "      <td>10</td>\n",
       "      <td>NaN</td>\n",
       "      <td>1 Player</td>\n",
       "      <td>NaN</td>\n",
       "      <td>Action RPG, Role-Playing</td>\n",
       "    </tr>\n",
       "    <tr>\n",
       "      <th>17343</th>\n",
       "      <td>Road to Guangdong</td>\n",
       "      <td>\\nPC,                                         ...</td>\n",
       "      <td>Xbox One</td>\n",
       "      <td>Just Add Oil Games</td>\n",
       "      <td>E</td>\n",
       "      <td>NaN</td>\n",
       "      <td>54</td>\n",
       "      <td>tbd</td>\n",
       "      <td>7</td>\n",
       "      <td>NaN</td>\n",
       "      <td>1 Player</td>\n",
       "      <td>NaN</td>\n",
       "      <td>Civilian,  Vehicle, Simulation</td>\n",
       "    </tr>\n",
       "    <tr>\n",
       "      <th>18193</th>\n",
       "      <td>PixelJunk Raiders</td>\n",
       "      <td>PixelJunk Raiders is the latest creation from ...</td>\n",
       "      <td>Stadia</td>\n",
       "      <td>Q-Games</td>\n",
       "      <td>T</td>\n",
       "      <td>NaN</td>\n",
       "      <td>49</td>\n",
       "      <td>6.0</td>\n",
       "      <td>9</td>\n",
       "      <td>71.0</td>\n",
       "      <td>1 Player</td>\n",
       "      <td>NaN</td>\n",
       "      <td>General, Action</td>\n",
       "    </tr>\n",
       "  </tbody>\n",
       "</table>\n",
       "</div>"
      ],
      "text/plain": [
       "                                title  \\\n",
       "4744                   ScourgeBringer   \n",
       "6392                 Everyday Shooter   \n",
       "6954             Secret World Legends   \n",
       "8882                 Orcs Must Die! 3   \n",
       "11501      Tracks: The Train Set Game   \n",
       "11764          Buzz! Junior: Dino Den   \n",
       "16180          Warcraft III: Reforged   \n",
       "17071  Empyre: Lords of the Sea Gates   \n",
       "17343               Road to Guangdong   \n",
       "18193               PixelJunk Raiders   \n",
       "\n",
       "                                            release_date      platforms  \\\n",
       "4744   \\nPC,                                         ...         Switch   \n",
       "6392                                    \\nPlayStation 3              PC   \n",
       "6954   Fight a secret war of the supernatural. Where ...             PC   \n",
       "8882   \\nPC,                                         ...         Stadia   \n",
       "11501  \\nPC,                                         ...       Xbox One   \n",
       "11764           The next installment in the Buzz series.  PlayStation 2   \n",
       "16180  A Classic Favorite, Reforged. Warcraft III: Re...             PC   \n",
       "17071  New York in 1911 is flooded. Avenues are now c...             PC   \n",
       "17343  \\nPC,                                         ...       Xbox One   \n",
       "18193  PixelJunk Raiders is the latest creation from ...         Stadia   \n",
       "\n",
       "                    developer esrb_rating ESRBs  metascore userscore  \\\n",
       "4744         Flying Oak Games         NaN   NaN         80       7.4   \n",
       "6392             Queasy Games         NaN   NaN         77       7.6   \n",
       "6954                   Funcom         NaN   NaN         76       5.2   \n",
       "8882      Robot Entertainment           T   NaN         73       7.7   \n",
       "11501             Whoop Group           E   NaN         69       5.5   \n",
       "11764                    SCEE         NaN   NaN         69       tbd   \n",
       "16180  Blizzard Entertainment           T   NaN         59       0.6   \n",
       "17071     Coin Operated Games         NaN   NaN         56       tbd   \n",
       "17343      Just Add Oil Games           E   NaN         54       tbd   \n",
       "18193                 Q-Games           T   NaN         49       6.0   \n",
       "\n",
       "       critic_reviews  user_reviews         num_players summary  \\\n",
       "4744                9           8.0            1 Player     NaN   \n",
       "6392                7          11.0            1 Player     NaN   \n",
       "6954                9          49.0            1 Player     NaN   \n",
       "8882               15          81.0            1 Player     NaN   \n",
       "11501               8          11.0            1 Player     NaN   \n",
       "11764               8           NaN         1-4 Players     NaN   \n",
       "16180              46       30913.0  Online Multiplayer     NaN   \n",
       "17071              10           NaN            1 Player     NaN   \n",
       "17343               7           NaN            1 Player     NaN   \n",
       "18193               9          71.0            1 Player     NaN   \n",
       "\n",
       "                                                  genres  \n",
       "4744                             2D,  Platformer, Action  \n",
       "6392   Shoot-'Em-Up,  Shooter,  Static,  Top-Down, Ac...  \n",
       "6954   Action Adventure,  General,  Massively Multipl...  \n",
       "8882                       Defense,  Real-Time, Strategy  \n",
       "11501           Business / Tycoon,  Management, Strategy  \n",
       "11764                  Trivia / Game Show, Miscellaneous  \n",
       "16180                      General,  Real-Time, Strategy  \n",
       "17071                           Action RPG, Role-Playing  \n",
       "17343                     Civilian,  Vehicle, Simulation  \n",
       "18193                                    General, Action  "
      ]
     },
     "execution_count": 8,
     "metadata": {},
     "output_type": "execute_result"
    }
   ],
   "source": [
    "games.iloc[non_date_indices, :]"
   ]
  },
  {
   "cell_type": "code",
   "execution_count": 9,
   "id": "54f699c7",
   "metadata": {},
   "outputs": [],
   "source": [
    "# Go through each game on the website since there are only 10 cases of this\n",
    "def change_sum_and_date(idx, summary, rdate):   \n",
    "    summ = summary\n",
    "    games.iloc[idx, -2] = summary.strip()\n",
    "    date = rdate\n",
    "    games.iloc[idx, 1] = date"
   ]
  },
  {
   "cell_type": "code",
   "execution_count": 10,
   "id": "8c987452",
   "metadata": {
    "scrolled": false
   },
   "outputs": [],
   "source": [
    "# ScourgeBringer, Switch--> https://www.metacritic.com/game/switch/scourgebringer/details\n",
    "idx = non_date_indices[0]\n",
    "summary = 'ScourgeBringer is a fast-paced free-moving roguelite platformer. Help Kyhra to explore the unknown and slash her way through ancient machines guarding the seal of her past, and maybe the redemption of humanity.'\n",
    "rdate = 'Oct 21, 2020'\n",
    "change_sum_and_date(idx, summary, rdate)"
   ]
  },
  {
   "cell_type": "code",
   "execution_count": 11,
   "id": "db6de3f7",
   "metadata": {
    "scrolled": true
   },
   "outputs": [],
   "source": [
    "# Everyday Shooter, PC--> https://www.metacritic.com/game/pc/everyday-shooter/details\n",
    "idx = non_date_indices[1]\n",
    "summary = \"Everyday Shooter is an album of games exploring the expressive power of abstract shooters. Dissolute sounds of destruction are replaced with guitar riffs harmonizing over an all-guitar soundtrack, while modulating shapes celebrate the flowing beauty of geometry. [Queasy Games]\"\n",
    "rdate = \"Mar 29, 2006\"\n",
    "change_sum_and_date(idx, summary, rdate)"
   ]
  },
  {
   "cell_type": "code",
   "execution_count": 12,
   "id": "47e0f3ae",
   "metadata": {},
   "outputs": [],
   "source": [
    "# Secret World Legends, PC--> https://www.metacritic.com/game/pc/secret-world-legends/details\n",
    "idx = non_date_indices[2]\n",
    "summary = \"Fight a secret war of the supernatural. Where will you stand in the secret war between good and evil as supernatural forces threaten the modern-day world? Use a wide range of weapons and superhuman abilities to destroy the sinister evils that are threatening humanity’s existence.\"\n",
    "rdate = \"Jun 26, 2017\"\n",
    "change_sum_and_date(idx, summary, rdate)"
   ]
  },
  {
   "cell_type": "code",
   "execution_count": 13,
   "id": "809cd8b2",
   "metadata": {},
   "outputs": [],
   "source": [
    "# Orcs Must Die! 3, Stadia--> https://www.metacritic.com/game/stadia/orcs-must-die!-3/details\n",
    "idx = non_date_indices[3]\n",
    "summary = \"Orcs Must Die! 3 ushers orc-slaying mayhem to a previously unimaginable scale. All new War Scenarios pit players and their friends against the largest orc armies ever assembled. Mountable War Machines give players the essential firepower to heave, stab, carbonize, and disarticulate the abominable intruders. Orcs Must Die! 3 is the long-awaited successor to the award-winning series.\"\n",
    "rdate = \"Jul 14, 2020\"\n",
    "change_sum_and_date(idx, summary, rdate)"
   ]
  },
  {
   "cell_type": "code",
   "execution_count": 14,
   "id": "e74d0601",
   "metadata": {},
   "outputs": [],
   "source": [
    "# Tracks: The Train Set Game, Xbox One--> https://www.metacritic.com/game/xbox-one/tracks-the-train-set-game/details\n",
    "idx = non_date_indices[4]\n",
    "summary = \"Create colorful railway systems, decorate beautiful towns, and even ride in your train.\"\n",
    "rdate = \"Nov 14, 2019\"\n",
    "change_sum_and_date(idx, summary, rdate)"
   ]
  },
  {
   "cell_type": "code",
   "execution_count": 15,
   "id": "ea9d60c8",
   "metadata": {},
   "outputs": [],
   "source": [
    "# Buzz! Junior: Dino Den, PlayStation 2--> https://www.metacritic.com/game/playstation-2/buzz!-junior-dino-den/details\n",
    "idx = non_date_indices[5]\n",
    "summary = \"The next installment in the Buzz series.\"\n",
    "rdate = \"Sep 25, 2008\"\n",
    "change_sum_and_date(idx, summary, rdate)"
   ]
  },
  {
   "cell_type": "code",
   "execution_count": 16,
   "id": "4eb02eaf",
   "metadata": {},
   "outputs": [],
   "source": [
    "# Warcraft III: Reforged, PC--> https://www.metacritic.com/game/pc/warcraft-iii-reforged/details\n",
    "idx = non_date_indices[6]\n",
    "summary =\\\n",
    "\"\"\"\n",
    "A Classic Favorite, Reforged. Warcraft III: Reforged is a reimagining of the real-time strategy game that laid the foundation for Azeroth's most epic stories. It is a remake featuring a thorough visual overhaul, a suite of contemporary social and matchmaking features, and more. Command the Night Elves, Undead, Orcs, and Humans as alliances shift and armies clash in this timeless real-time strategy game. AZEROTH, BORN ANEW! Experience an Epic Story. The founding of Orgrimmar. The fall of Lordaeron. The reign of the Burning Legion. The rise of the Lich King. Veterans and newcomers alike will experience these pivotal events in Azeroth's history like never before. The Battlefield Awaits. Play through the points of view of four distinct factions: the mighty Orcs, the noble Humans, the ancient Night Elves, and the insidious Undead. Gather resources, build your base, and assemble an army. Recruit powerful heroes to lead your forces, and meet your foes in battle. Destroy the enemy base to win the game! Vast Campaigns. Relive the events of Warcraft III: Reign of Chaos and The Frozen Throne. Enjoy an epic saga retold with over four hours of reshot cutscenes and updated voice-overs that breathe new life into the earliest renditions of Azeroth's key characters, across more than 60 single-player missions that span Kalimdor, Northrend, Lordaeron, and beyond. Reimagined Visuals. Every character, structure, and environment has been recreated to emphasis the depth, dimension, and personality of this rough-hewn fantasy world. Behold Warcraft III's classic units in glorious 4K, with updated animations that bring them to life like you've never seen. World Editor & Custom Maps. Return to the game that started it all. Discover a vast universe of player-created games, including tower defense, MOBAs, RPGs, survival games, and moreor build your own with the upgraded World Editor. Multiplayer Matchmaking. Challenge opponents with modern multiplayer matchmaking, search for custom game lobbies, and connect with friends through the Blizzard Battle.net app. With updated UI and countless quality-of-life improvements, its never been easier to get into Warcraft III.\"\n",
    "\"\"\"\n",
    "rdate = \"Jan 28, 2020\"\n",
    "change_sum_and_date(idx, summary, rdate)"
   ]
  },
  {
   "cell_type": "code",
   "execution_count": 17,
   "id": "00d16a16",
   "metadata": {},
   "outputs": [],
   "source": [
    "# Empyre: Lords of the Sea Gates, PC--> https://www.metacritic.com/game/pc/empyre-lords-of-the-sea-gates/details\n",
    "idx = non_date_indices[7]\n",
    "summary = games.iloc[idx].release_date.strip()\n",
    "rdate = \"Oct  4, 2017\"\n",
    "change_sum_and_date(idx, summary, rdate)"
   ]
  },
  {
   "cell_type": "code",
   "execution_count": 18,
   "id": "d8df4ae4",
   "metadata": {},
   "outputs": [],
   "source": [
    "# Road to Guangdong, Xbox One--> https://www.metacritic.com/game/xbox-one/road-to-guangdong/details\n",
    "idx = non_date_indices[8]\n",
    "summary = \"A family emergency reunites a young art graduate and her elderly aunt for a memorable road trip across 1990s China. Sunny’s life is at a crossroads. She knows everything’s about to change. She just doesn’t know how yet. She glances again at the contract. The good news is she’s now the proud owner of her family‘s cherished restaurant. The bad news? It’s seen better days. A tap at the door announces the arrival of her aunt, Guu Ma. Yep, everything’s about to change alright. But the “how” part will be decided by a bunch of strangers she’s only seen in faded photographs.\"\n",
    "rdate = \"Aug 28, 2020\"\n",
    "change_sum_and_date(idx, summary, rdate)"
   ]
  },
  {
   "cell_type": "code",
   "execution_count": 19,
   "id": "bf9353e8",
   "metadata": {},
   "outputs": [],
   "source": [
    "# PixelJunk Raiders, Stadia--> https://www.metacritic.com/game/stadia/pixeljunk-raiders/details\n",
    "idx = non_date_indices[9]\n",
    "summary = games.iloc[idx].release_date.strip()\n",
    "rdate = \"Mar  1, 2021\"\n",
    "change_sum_and_date(idx, summary, rdate)"
   ]
  },
  {
   "cell_type": "code",
   "execution_count": 20,
   "id": "dd1ed88f",
   "metadata": {},
   "outputs": [
    {
     "name": "stdout",
     "output_type": "stream",
     "text": [
      "Converted!\n"
     ]
    }
   ],
   "source": [
    "# try to covnvert release_date column again\n",
    "try:\n",
    "    games = games.astype({'release_date': 'datetime64[ns]'})\n",
    "    print('Converted!')\n",
    "except Exception as e:\n",
    "    print('\\n', sys.exc_info()[0],'\\n', sys.exc_info()[1])"
   ]
  },
  {
   "cell_type": "code",
   "execution_count": 21,
   "id": "32b3c5be",
   "metadata": {},
   "outputs": [
    {
     "name": "stdout",
     "output_type": "stream",
     "text": [
      "<class 'pandas.core.frame.DataFrame'>\n",
      "RangeIndex: 19317 entries, 0 to 19316\n",
      "Data columns (total 13 columns):\n",
      " #   Column          Non-Null Count  Dtype         \n",
      "---  ------          --------------  -----         \n",
      " 0   title           19317 non-null  object        \n",
      " 1   release_date    19317 non-null  datetime64[ns]\n",
      " 2   platforms       19317 non-null  object        \n",
      " 3   developer       19298 non-null  object        \n",
      " 4   esrb_rating     17202 non-null  object        \n",
      " 5   ESRBs           7855 non-null   object        \n",
      " 6   metascore       19317 non-null  int64         \n",
      " 7   userscore       19317 non-null  object        \n",
      " 8   critic_reviews  19317 non-null  int64         \n",
      " 9   user_reviews    17953 non-null  float64       \n",
      " 10  num_players     19304 non-null  object        \n",
      " 11  summary         19210 non-null  object        \n",
      " 12  genres          19317 non-null  object        \n",
      "dtypes: datetime64[ns](1), float64(1), int64(2), object(9)\n",
      "memory usage: 1.9+ MB\n"
     ]
    }
   ],
   "source": [
    "games.info()"
   ]
  },
  {
   "cell_type": "markdown",
   "id": "9af6a121",
   "metadata": {},
   "source": [
    "The userscore column is of type object. It should be of type float64. Looking at previous outputs for the release_dates we can see that there are 'tbd's in the userscore column. Lets see if we can fill these in with anything meaningful."
   ]
  },
  {
   "cell_type": "code",
   "execution_count": 22,
   "id": "385db7ca",
   "metadata": {},
   "outputs": [
    {
     "data": {
      "text/plain": [
       "1364"
      ]
     },
     "execution_count": 22,
     "metadata": {},
     "output_type": "execute_result"
    }
   ],
   "source": [
    "# number of rows with tbd as userscore\n",
    "len(games[games.userscore=='tbd'].title)"
   ]
  },
  {
   "cell_type": "code",
   "execution_count": 23,
   "id": "479f2d37",
   "metadata": {
    "scrolled": true
   },
   "outputs": [],
   "source": [
    "no_userscore_titles = list(games[games.userscore=='tbd'].title)"
   ]
  },
  {
   "cell_type": "code",
   "execution_count": 24,
   "id": "7ee53934",
   "metadata": {
    "scrolled": true
   },
   "outputs": [
    {
     "data": {
      "text/html": [
       "<div>\n",
       "<style scoped>\n",
       "    .dataframe tbody tr th:only-of-type {\n",
       "        vertical-align: middle;\n",
       "    }\n",
       "\n",
       "    .dataframe tbody tr th {\n",
       "        vertical-align: top;\n",
       "    }\n",
       "\n",
       "    .dataframe thead th {\n",
       "        text-align: right;\n",
       "    }\n",
       "</style>\n",
       "<table border=\"1\" class=\"dataframe\">\n",
       "  <thead>\n",
       "    <tr style=\"text-align: right;\">\n",
       "      <th></th>\n",
       "      <th>ids</th>\n",
       "      <th>game</th>\n",
       "      <th>rating</th>\n",
       "      <th>review</th>\n",
       "    </tr>\n",
       "  </thead>\n",
       "  <tbody>\n",
       "    <tr>\n",
       "      <th>0</th>\n",
       "      <td>0</td>\n",
       "      <td>Rockstar Games presents Table Tennis</td>\n",
       "      <td>9</td>\n",
       "      <td>Amazingly Addicting!</td>\n",
       "    </tr>\n",
       "    <tr>\n",
       "      <th>1</th>\n",
       "      <td>0</td>\n",
       "      <td>Disney's Magical Mirror Starring Mickey Mouse</td>\n",
       "      <td>10</td>\n",
       "      <td>this game lets you able to play as mickey mou...</td>\n",
       "    </tr>\n",
       "    <tr>\n",
       "      <th>2</th>\n",
       "      <td>1</td>\n",
       "      <td>Deus Ex: Invisible War</td>\n",
       "      <td>1</td>\n",
       "      <td>Yet another disappointment to add to 2003's r...</td>\n",
       "    </tr>\n",
       "    <tr>\n",
       "      <th>3</th>\n",
       "      <td>2</td>\n",
       "      <td>Mobile Suit Gundam: Journey to Jaburo</td>\n",
       "      <td>10</td>\n",
       "      <td>I love this Game!</td>\n",
       "    </tr>\n",
       "    <tr>\n",
       "      <th>4</th>\n",
       "      <td>3</td>\n",
       "      <td>Dead to Rights: Reckoning</td>\n",
       "      <td>10</td>\n",
       "      <td>This  is  a  really  good  game  for  people  ...</td>\n",
       "    </tr>\n",
       "  </tbody>\n",
       "</table>\n",
       "</div>"
      ],
      "text/plain": [
       "   ids                                           game  rating  \\\n",
       "0    0           Rockstar Games presents Table Tennis       9   \n",
       "1    0  Disney's Magical Mirror Starring Mickey Mouse      10   \n",
       "2    1                         Deus Ex: Invisible War       1   \n",
       "3    2          Mobile Suit Gundam: Journey to Jaburo      10   \n",
       "4    3                      Dead to Rights: Reckoning      10   \n",
       "\n",
       "                                              review  \n",
       "0                               Amazingly Addicting!  \n",
       "1   this game lets you able to play as mickey mou...  \n",
       "2   Yet another disappointment to add to 2003's r...  \n",
       "3                                  I love this Game!  \n",
       "4  This  is  a  really  good  game  for  people  ...  "
      ]
     },
     "execution_count": 24,
     "metadata": {},
     "output_type": "execute_result"
    }
   ],
   "source": [
    "reviews = pd.read_csv('metacritic_reviews.csv').drop(['Unnamed: 0'],axis=1)\n",
    "reviews.head()"
   ]
  },
  {
   "cell_type": "code",
   "execution_count": 25,
   "id": "6aec3e11",
   "metadata": {},
   "outputs": [],
   "source": [
    "# review rows of games that have no userscore in the game data\n",
    "g = reviews[reviews.game.isin(no_userscore_titles)].game"
   ]
  },
  {
   "cell_type": "code",
   "execution_count": 26,
   "id": "b7e02aba",
   "metadata": {
    "scrolled": true
   },
   "outputs": [
    {
     "data": {
      "text/plain": [
       "LEGO Marvel Super Heroes    151\n",
       "Madden NFL 06               141\n",
       "The Long Dark               135\n",
       "Jurassic World Evolution    132\n",
       "DiRT 2                      115\n",
       "                           ... \n",
       "Jet Lancer                    1\n",
       "Championship Surfer           1\n",
       "Guitar Rock Tour              1\n",
       "Shrek: Reekin' Havoc          1\n",
       "Crazy Machines Elements       1\n",
       "Name: game, Length: 798, dtype: int64"
      ]
     },
     "execution_count": 26,
     "metadata": {},
     "output_type": "execute_result"
    }
   ],
   "source": [
    "# Attempt at dropping consecutive duplicates. To distinguis between platforms.   \n",
    "g.loc[g.shift(-1)!=g].value_counts()"
   ]
  },
  {
   "cell_type": "markdown",
   "id": "53d8ed2b",
   "metadata": {},
   "source": [
    "Update: (5/11) I realized this won't work as the data was not scraped consecutively but in paralell, so not all reviews from the same game are not necessarily, and almost certainly not consecutive So there is no way of seperating same titles from different platforms. For example, if this method was going to work, \"Lego Marvel Super Heroes\" would only have 7 instances (the number of platforms) of  as opposed to 151. "
   ]
  },
  {
   "cell_type": "markdown",
   "id": "81f48a7c",
   "metadata": {},
   "source": [
    "From now I will only be wrangling data if necessary for EDA or Modeling. "
   ]
  },
  {
   "cell_type": "code",
   "execution_count": 27,
   "id": "484fb56d",
   "metadata": {},
   "outputs": [],
   "source": [
    "# games.to_csv('games_eda.csv')"
   ]
  }
 ],
 "metadata": {
  "kernelspec": {
   "display_name": "Python 3 (ipykernel)",
   "language": "python",
   "name": "python3"
  },
  "language_info": {
   "codemirror_mode": {
    "name": "ipython",
    "version": 3
   },
   "file_extension": ".py",
   "mimetype": "text/x-python",
   "name": "python",
   "nbconvert_exporter": "python",
   "pygments_lexer": "ipython3",
   "version": "3.9.7"
  }
 },
 "nbformat": 4,
 "nbformat_minor": 5
}
