{
 "cells": [
  {
   "cell_type": "code",
   "execution_count": 138,
   "id": "198911d4",
   "metadata": {},
   "outputs": [],
   "source": [
    "import requests\n",
    "from bs4 import BeautifulSoup as bs\n",
    "import pandas as pd\n",
    "import warnings\n",
    "warnings.filterwarnings(action='once')\n",
    "from icecream import ic\n",
    "from random import randint\n",
    "from time import sleep"
   ]
  },
  {
   "cell_type": "code",
   "execution_count": 214,
   "id": "05b92e18",
   "metadata": {},
   "outputs": [],
   "source": [
    "url = \"https://www.metacritic.com\"\n",
    "first_page = \"https://www.metacritic.com/browse/games/score/userscore/all/all/filtered?view=condensed&sort=descc\"\n",
    "user_agent = {'User-agent': 'Mozilla/5.0'}\n",
    "review_dict = {'name':[], 'date':[], 'rating':[], 'review':[]}\n",
    "\n",
    "def parse_page(page_link, next_page, end_page, games_per_page = 3):  \n",
    "    next_page = next_page\n",
    "    print('parsing page:', next_page-1)\n",
    "\n",
    "#   request from current page\n",
    "    response = requests.get(page_link, headers = user_agent)\n",
    "    soup = bs(response.text, 'html.parser')\n",
    "\n",
    "#     Loop through current page and extract links to game pages     \n",
    "    for game in soup.find_all('a', attrs = {'class':'title'})[:games_per_page]:\n",
    "        game_link = url + game.get('href')\n",
    "        \n",
    "#         Connects to game page\n",
    "        game_response = requests.get(game_link, headers = user_agent)\n",
    "        game_soup = bs(game_response.text, 'html.parser')\n",
    "\n",
    "#         Extracts link to User Reviews Page from main game page\n",
    "        for user_review in game_soup.find_all('a', attrs = {'class':'action'}, text = 'User Reviews'):\n",
    "            user_review_link = url + user_review.get('href')\n",
    "            \n",
    "#             Connects to User Review page\n",
    "            user_review_response = requests.get(user_review_link, headers = user_agent)\n",
    "            user_review_soup = bs(user_review_response.text, 'html.parser')\n",
    "            sleep(randint(2, 4))\n",
    "\n",
    "#           credit: Adeline Ong\n",
    "#           https://towardsdatascience.com/web-scraping-metacritic-reviews-using-beautifulsoup-63801bbe200e\n",
    "\n",
    "#             Loop through User Review Page and Extract Review Data into a dictionary\n",
    "            for review in user_review_soup.find_all('div', class_='review_content'):\n",
    "                if review.find('div', class_='name') == None:\n",
    "                    break\n",
    "                review_dict['name'].append(review.find('div', class_='name').find(recursive = True).text)\n",
    "                review_dict['date'].append(review.find('div', class_='date').text)\n",
    "                review_dict['rating'].append(review.find('div', class_='review_grade').find_all('div')[0].text)\n",
    "                if review.find('span', class_='blurb blurb_expanded'):\n",
    "                    review_dict['review'].append(review.find('span', class_='blurb blurb_expanded').text)\n",
    "                else:\n",
    "                    review_dict['review'].append(review.find('div', class_='review_body').find('span').text)\n",
    "    \n",
    "    sleep(randint(2, 4))\n",
    "    \n",
    "    if next_page == (end_page+1):\n",
    "        print('Done')\n",
    "        return \n",
    "    \n",
    "#     Recurse through the following pages\n",
    "    find_next_page = soup.find('a', class_='page_num', string = f'{next_page}')\n",
    "    nextpage_link = url + find_next_page.get('href')\n",
    "    next_page += 1\n",
    "    parse_page(nextpage_link, next_page, end_page, games_per_page)\n",
    "    "
   ]
  },
  {
   "cell_type": "code",
   "execution_count": 215,
   "id": "c1d8b0ef",
   "metadata": {},
   "outputs": [
    {
     "name": "stderr",
     "output_type": "stream",
     "text": [
      "2022-04-17 22:38:31 [urllib3.connectionpool] DEBUG: Starting new HTTPS connection (1): www.metacritic.com:443\n"
     ]
    },
    {
     "name": "stdout",
     "output_type": "stream",
     "text": [
      "parsing page: 1\n"
     ]
    },
    {
     "name": "stderr",
     "output_type": "stream",
     "text": [
      "2022-04-17 22:38:31 [urllib3.connectionpool] DEBUG: https://www.metacritic.com:443 \"GET /browse/games/score/userscore/all/all/filtered?view=condensed&sort=descc HTTP/1.1\" 200 59219\n",
      "2022-04-17 22:38:32 [urllib3.connectionpool] DEBUG: Starting new HTTPS connection (1): www.metacritic.com:443\n",
      "2022-04-17 22:38:32 [urllib3.connectionpool] DEBUG: https://www.metacritic.com:443 \"GET /game/ds/ghost-trick-phantom-detective HTTP/1.1\" 200 32377\n",
      "2022-04-17 22:38:32 [urllib3.connectionpool] DEBUG: Starting new HTTPS connection (1): www.metacritic.com:443\n",
      "2022-04-17 22:38:32 [urllib3.connectionpool] DEBUG: https://www.metacritic.com:443 \"GET /game/ds/ghost-trick-phantom-detective/user-reviews HTTP/1.1\" 200 39462\n",
      "2022-04-17 22:38:35 [urllib3.connectionpool] DEBUG: Starting new HTTPS connection (1): www.metacritic.com:443\n",
      "2022-04-17 22:38:35 [urllib3.connectionpool] DEBUG: https://www.metacritic.com:443 \"GET /game/psp/zhp-unlosing-ranger-vs-darkdeath-evilman HTTP/1.1\" 200 25796\n",
      "2022-04-17 22:38:35 [urllib3.connectionpool] DEBUG: Starting new HTTPS connection (1): www.metacritic.com:443\n",
      "2022-04-17 22:38:35 [urllib3.connectionpool] DEBUG: https://www.metacritic.com:443 \"GET /game/psp/zhp-unlosing-ranger-vs-darkdeath-evilman/user-reviews HTTP/1.1\" 200 26065\n",
      "2022-04-17 22:38:38 [urllib3.connectionpool] DEBUG: Starting new HTTPS connection (1): www.metacritic.com:443\n",
      "2022-04-17 22:38:39 [urllib3.connectionpool] DEBUG: https://www.metacritic.com:443 \"GET /game/playstation-2/grimgrimoire HTTP/1.1\" 200 30955\n",
      "2022-04-17 22:38:39 [urllib3.connectionpool] DEBUG: Starting new HTTPS connection (1): www.metacritic.com:443\n",
      "2022-04-17 22:38:39 [urllib3.connectionpool] DEBUG: https://www.metacritic.com:443 \"GET /game/playstation-2/grimgrimoire/user-reviews HTTP/1.1\" 200 28678\n",
      "2022-04-17 22:38:44 [urllib3.connectionpool] DEBUG: Starting new HTTPS connection (1): www.metacritic.com:443\n",
      "2022-04-17 22:38:44 [urllib3.connectionpool] DEBUG: https://www.metacritic.com:443 \"GET /browse/games/score/userscore/all/all/filtered?view=condensed&sort=descc&page=1 HTTP/1.1\" 200 60101\n"
     ]
    },
    {
     "name": "stdout",
     "output_type": "stream",
     "text": [
      "parsing page: 2\n"
     ]
    },
    {
     "name": "stderr",
     "output_type": "stream",
     "text": [
      "2022-04-17 22:38:45 [urllib3.connectionpool] DEBUG: Starting new HTTPS connection (1): www.metacritic.com:443\n",
      "2022-04-17 22:38:45 [urllib3.connectionpool] DEBUG: https://www.metacritic.com:443 \"GET /game/pc/final-fantasy-xiv-heavensward HTTP/1.1\" 200 37817\n",
      "2022-04-17 22:38:45 [urllib3.connectionpool] DEBUG: Starting new HTTPS connection (1): www.metacritic.com:443\n",
      "2022-04-17 22:38:45 [urllib3.connectionpool] DEBUG: https://www.metacritic.com:443 \"GET /game/pc/final-fantasy-xiv-heavensward/user-reviews HTTP/1.1\" 200 55956\n",
      "2022-04-17 22:38:50 [urllib3.connectionpool] DEBUG: Starting new HTTPS connection (1): www.metacritic.com:443\n",
      "2022-04-17 22:38:50 [urllib3.connectionpool] DEBUG: https://www.metacritic.com:443 \"GET /game/pc/the-witcher-3-wild-hunt HTTP/1.1\" 200 38809\n",
      "2022-04-17 22:38:50 [urllib3.connectionpool] DEBUG: Starting new HTTPS connection (1): www.metacritic.com:443\n",
      "2022-04-17 22:38:52 [urllib3.connectionpool] DEBUG: https://www.metacritic.com:443 \"GET /game/pc/the-witcher-3-wild-hunt/user-reviews HTTP/1.1\" 200 65496\n",
      "2022-04-17 22:38:54 [urllib3.connectionpool] DEBUG: Starting new HTTPS connection (1): www.metacritic.com:443\n",
      "2022-04-17 22:38:54 [urllib3.connectionpool] DEBUG: https://www.metacritic.com:443 \"GET /game/pc/steinsgate HTTP/1.1\" 200 28162\n",
      "2022-04-17 22:38:54 [urllib3.connectionpool] DEBUG: Starting new HTTPS connection (1): www.metacritic.com:443\n",
      "2022-04-17 22:38:57 [urllib3.connectionpool] DEBUG: https://www.metacritic.com:443 \"GET /game/pc/steinsgate/user-reviews HTTP/1.1\" 200 36643\n",
      "2022-04-17 22:39:03 [urllib3.connectionpool] DEBUG: Starting new HTTPS connection (1): www.metacritic.com:443\n"
     ]
    },
    {
     "name": "stdout",
     "output_type": "stream",
     "text": [
      "parsing page: 3\n"
     ]
    },
    {
     "name": "stderr",
     "output_type": "stream",
     "text": [
      "2022-04-17 22:39:07 [urllib3.connectionpool] DEBUG: https://www.metacritic.com:443 \"GET /browse/games/score/userscore/all/all/filtered?view=condensed&sort=descc&page=2 HTTP/1.1\" 200 62137\n",
      "2022-04-17 22:39:07 [urllib3.connectionpool] DEBUG: Starting new HTTPS connection (1): www.metacritic.com:443\n",
      "2022-04-17 22:39:07 [urllib3.connectionpool] DEBUG: https://www.metacritic.com:443 \"GET /game/playstation-3/red-dead-redemption HTTP/1.1\" 200 35294\n",
      "2022-04-17 22:39:07 [urllib3.connectionpool] DEBUG: Starting new HTTPS connection (1): www.metacritic.com:443\n",
      "2022-04-17 22:39:09 [urllib3.connectionpool] DEBUG: https://www.metacritic.com:443 \"GET /game/playstation-3/red-dead-redemption/user-reviews HTTP/1.1\" 200 64666\n",
      "2022-04-17 22:39:12 [urllib3.connectionpool] DEBUG: Starting new HTTPS connection (1): www.metacritic.com:443\n",
      "2022-04-17 22:39:12 [urllib3.connectionpool] DEBUG: https://www.metacritic.com:443 \"GET /game/pc/mount-blade-warband HTTP/1.1\" 200 34403\n",
      "2022-04-17 22:39:12 [urllib3.connectionpool] DEBUG: Starting new HTTPS connection (1): www.metacritic.com:443\n",
      "2022-04-17 22:39:12 [urllib3.connectionpool] DEBUG: https://www.metacritic.com:443 \"GET /game/pc/mount-blade-warband/user-reviews HTTP/1.1\" 200 64467\n",
      "2022-04-17 22:39:14 [urllib3.connectionpool] DEBUG: Starting new HTTPS connection (1): www.metacritic.com:443\n",
      "2022-04-17 22:39:14 [urllib3.connectionpool] DEBUG: https://www.metacritic.com:443 \"GET /game/pc/mass-effect-2 HTTP/1.1\" 200 35143\n",
      "2022-04-17 22:39:15 [urllib3.connectionpool] DEBUG: Starting new HTTPS connection (1): www.metacritic.com:443\n",
      "2022-04-17 22:39:16 [urllib3.connectionpool] DEBUG: https://www.metacritic.com:443 \"GET /game/pc/mass-effect-2/user-reviews HTTP/1.1\" 200 66062\n",
      "2022-04-17 22:39:24 [urllib3.connectionpool] DEBUG: Starting new HTTPS connection (1): www.metacritic.com:443\n"
     ]
    },
    {
     "name": "stdout",
     "output_type": "stream",
     "text": [
      "parsing page: 4\n"
     ]
    },
    {
     "name": "stderr",
     "output_type": "stream",
     "text": [
      "2022-04-17 22:39:25 [urllib3.connectionpool] DEBUG: https://www.metacritic.com:443 \"GET /browse/games/score/userscore/all/all/filtered?view=condensed&sort=descc&page=3 HTTP/1.1\" 200 64828\n",
      "2022-04-17 22:39:26 [urllib3.connectionpool] DEBUG: Starting new HTTPS connection (1): www.metacritic.com:443\n",
      "2022-04-17 22:39:26 [urllib3.connectionpool] DEBUG: https://www.metacritic.com:443 \"GET /game/xbox-one/sekiro-shadows-die-twice HTTP/1.1\" 200 38286\n",
      "2022-04-17 22:39:26 [urllib3.connectionpool] DEBUG: Starting new HTTPS connection (1): www.metacritic.com:443\n",
      "2022-04-17 22:39:26 [urllib3.connectionpool] DEBUG: https://www.metacritic.com:443 \"GET /game/xbox-one/sekiro-shadows-die-twice/user-reviews HTTP/1.1\" 200 63735\n",
      "2022-04-17 22:39:29 [urllib3.connectionpool] DEBUG: Starting new HTTPS connection (1): www.metacritic.com:443\n",
      "2022-04-17 22:39:29 [urllib3.connectionpool] DEBUG: https://www.metacritic.com:443 \"GET /game/pc/divinity-original-sin-ii HTTP/1.1\" 200 35359\n",
      "2022-04-17 22:39:29 [urllib3.connectionpool] DEBUG: Starting new HTTPS connection (1): www.metacritic.com:443\n",
      "2022-04-17 22:39:30 [urllib3.connectionpool] DEBUG: https://www.metacritic.com:443 \"GET /game/pc/divinity-original-sin-ii/user-reviews HTTP/1.1\" 200 67537\n",
      "2022-04-17 22:39:34 [urllib3.connectionpool] DEBUG: Starting new HTTPS connection (1): www.metacritic.com:443\n",
      "2022-04-17 22:39:34 [urllib3.connectionpool] DEBUG: https://www.metacritic.com:443 \"GET /game/pc/vanquish HTTP/1.1\" 200 34668\n",
      "2022-04-17 22:39:34 [urllib3.connectionpool] DEBUG: Starting new HTTPS connection (1): www.metacritic.com:443\n",
      "2022-04-17 22:39:34 [urllib3.connectionpool] DEBUG: https://www.metacritic.com:443 \"GET /game/pc/vanquish/user-reviews HTTP/1.1\" 200 37640\n"
     ]
    },
    {
     "name": "stdout",
     "output_type": "stream",
     "text": [
      "Done\n"
     ]
    }
   ],
   "source": [
    "parse_page(first_page, next_page = 2, end_page = 4, games_per_page = 3)"
   ]
  },
  {
   "cell_type": "markdown",
   "id": "80266375",
   "metadata": {},
   "source": [
    "# Still need to Extract Game Title"
   ]
  },
  {
   "cell_type": "code",
   "execution_count": 221,
   "id": "8e652a3c",
   "metadata": {
    "scrolled": true
   },
   "outputs": [
    {
     "data": {
      "text/html": [
       "<div>\n",
       "<style scoped>\n",
       "    .dataframe tbody tr th:only-of-type {\n",
       "        vertical-align: middle;\n",
       "    }\n",
       "\n",
       "    .dataframe tbody tr th {\n",
       "        vertical-align: top;\n",
       "    }\n",
       "\n",
       "    .dataframe thead th {\n",
       "        text-align: right;\n",
       "    }\n",
       "</style>\n",
       "<table border=\"1\" class=\"dataframe\">\n",
       "  <thead>\n",
       "    <tr style=\"text-align: right;\">\n",
       "      <th></th>\n",
       "      <th>name</th>\n",
       "      <th>date</th>\n",
       "      <th>rating</th>\n",
       "      <th>review</th>\n",
       "    </tr>\n",
       "  </thead>\n",
       "  <tbody>\n",
       "    <tr>\n",
       "      <th>0</th>\n",
       "      <td>Dogfish44</td>\n",
       "      <td>Nov 14, 2011</td>\n",
       "      <td>10</td>\n",
       "      <td>Easily one of the best, if not the most well k...</td>\n",
       "    </tr>\n",
       "    <tr>\n",
       "      <th>1</th>\n",
       "      <td>Susano</td>\n",
       "      <td>Jan 26, 2012</td>\n",
       "      <td>9</td>\n",
       "      <td>Hands down, one of the best games on DS. Ghost...</td>\n",
       "    </tr>\n",
       "    <tr>\n",
       "      <th>2</th>\n",
       "      <td>ja52ng74</td>\n",
       "      <td>Mar 16, 2012</td>\n",
       "      <td>10</td>\n",
       "      <td>Innovative and addictive style of gameplay, en...</td>\n",
       "    </tr>\n",
       "    <tr>\n",
       "      <th>3</th>\n",
       "      <td>theshonen8899</td>\n",
       "      <td>Jun 21, 2011</td>\n",
       "      <td>10</td>\n",
       "      <td>Phenomenal. This game is the perfect blend of ...</td>\n",
       "    </tr>\n",
       "    <tr>\n",
       "      <th>4</th>\n",
       "      <td>curlybrace</td>\n",
       "      <td>Jul 12, 2011</td>\n",
       "      <td>10</td>\n",
       "      <td>I picked up this game expecting good things fr...</td>\n",
       "    </tr>\n",
       "    <tr>\n",
       "      <th>...</th>\n",
       "      <td>...</td>\n",
       "      <td>...</td>\n",
       "      <td>...</td>\n",
       "      <td>...</td>\n",
       "    </tr>\n",
       "    <tr>\n",
       "      <th>805</th>\n",
       "      <td>ErayTellezi</td>\n",
       "      <td>Nov 17, 2020</td>\n",
       "      <td>7</td>\n",
       "      <td>Gördüğüm en ilginç boss'lardan birini barındır...</td>\n",
       "    </tr>\n",
       "    <tr>\n",
       "      <th>806</th>\n",
       "      <td>BOZOO</td>\n",
       "      <td>May  7, 2021</td>\n",
       "      <td>6</td>\n",
       "      <td>i mean it's fun but don't expect a mind-blowin...</td>\n",
       "    </tr>\n",
       "    <tr>\n",
       "      <th>807</th>\n",
       "      <td>VikiSetyah</td>\n",
       "      <td>Aug 25, 2021</td>\n",
       "      <td>4</td>\n",
       "      <td>Bad port optimization and poor graphic,there i...</td>\n",
       "    </tr>\n",
       "    <tr>\n",
       "      <th>808</th>\n",
       "      <td>KIrillooss</td>\n",
       "      <td>Dec  9, 2021</td>\n",
       "      <td>9</td>\n",
       "      <td>Отличный экшен шутер с простым сюжетом и круты...</td>\n",
       "    </tr>\n",
       "    <tr>\n",
       "      <th>809</th>\n",
       "      <td>Flavioguercio</td>\n",
       "      <td>Feb 22, 2022</td>\n",
       "      <td>8</td>\n",
       "      <td>aaaaaaaaaaaaaaaaaaaaaaaaaaaaaaaaaaaaaaaaaaaaaa...</td>\n",
       "    </tr>\n",
       "  </tbody>\n",
       "</table>\n",
       "<p>808 rows × 4 columns</p>\n",
       "</div>"
      ],
      "text/plain": [
       "              name          date rating  \\\n",
       "0        Dogfish44  Nov 14, 2011     10   \n",
       "1           Susano  Jan 26, 2012      9   \n",
       "2         ja52ng74  Mar 16, 2012     10   \n",
       "3    theshonen8899  Jun 21, 2011     10   \n",
       "4       curlybrace  Jul 12, 2011     10   \n",
       "..             ...           ...    ...   \n",
       "805    ErayTellezi  Nov 17, 2020      7   \n",
       "806          BOZOO  May  7, 2021      6   \n",
       "807     VikiSetyah  Aug 25, 2021      4   \n",
       "808     KIrillooss  Dec  9, 2021      9   \n",
       "809  Flavioguercio  Feb 22, 2022      8   \n",
       "\n",
       "                                                review  \n",
       "0    Easily one of the best, if not the most well k...  \n",
       "1    Hands down, one of the best games on DS. Ghost...  \n",
       "2    Innovative and addictive style of gameplay, en...  \n",
       "3    Phenomenal. This game is the perfect blend of ...  \n",
       "4    I picked up this game expecting good things fr...  \n",
       "..                                                 ...  \n",
       "805  Gördüğüm en ilginç boss'lardan birini barındır...  \n",
       "806  i mean it's fun but don't expect a mind-blowin...  \n",
       "807  Bad port optimization and poor graphic,there i...  \n",
       "808  Отличный экшен шутер с простым сюжетом и круты...  \n",
       "809  aaaaaaaaaaaaaaaaaaaaaaaaaaaaaaaaaaaaaaaaaaaaaa...  \n",
       "\n",
       "[808 rows x 4 columns]"
      ]
     },
     "execution_count": 221,
     "metadata": {},
     "output_type": "execute_result"
    }
   ],
   "source": [
    "sword_reviews = pd.DataFrame(review_dict) \n",
    "sword_reviews.drop_duplicates()"
   ]
  },
  {
   "cell_type": "markdown",
   "id": "7f470ade",
   "metadata": {},
   "source": [
    "# <br><br><br>Beyond this point was just debugging<br><br><br><br><br>"
   ]
  },
  {
   "cell_type": "code",
   "execution_count": 201,
   "id": "a6ddc8cc",
   "metadata": {},
   "outputs": [],
   "source": [
    "def testing():\n",
    "    while True:\n",
    "        print('done')\n",
    "        return"
   ]
  },
  {
   "cell_type": "code",
   "execution_count": 202,
   "id": "b76616e2",
   "metadata": {},
   "outputs": [
    {
     "name": "stdout",
     "output_type": "stream",
     "text": [
      "done\n"
     ]
    }
   ],
   "source": [
    "testing()"
   ]
  },
  {
   "cell_type": "code",
   "execution_count": 60,
   "id": "7d3e9d37",
   "metadata": {},
   "outputs": [
    {
     "data": {
      "text/plain": [
       "['/game/ds/ghost-trick-phantom-detective',\n",
       " '/game/psp/zhp-unlosing-ranger-vs-darkdeath-evilman',\n",
       " '/game/playstation-2/grimgrimoire',\n",
       " '/game/xbox-one/superliminal',\n",
       " '/game/switch/superliminal']"
      ]
     },
     "execution_count": 60,
     "metadata": {},
     "output_type": "execute_result"
    }
   ],
   "source": [
    "# review links for each game title\n",
    "[link.get('href') for link in soup.find_all('a', attrs = {'class':'title'})][:5]"
   ]
  },
  {
   "cell_type": "code",
   "execution_count": 75,
   "id": "c5ffc773",
   "metadata": {},
   "outputs": [
    {
     "name": "stderr",
     "output_type": "stream",
     "text": [
      "2022-04-17 12:56:50 [urllib3.connectionpool] DEBUG: Starting new HTTPS connection (1): www.metacritic.com:443\n",
      "2022-04-17 12:56:50 [urllib3.connectionpool] DEBUG: https://www.metacritic.com:443 \"GET /game/ds/ghost-trick-phantom-detective HTTP/1.1\" 200 32376\n"
     ]
    }
   ],
   "source": [
    "# get to user reviews page\n",
    "link = \"https://www.metacritic.com/game/ds/ghost-trick-phantom-detective\"\n",
    "response = requests.get(link, headers = user_agent)\n",
    "soup_game = bs(response.text, 'html.parser')"
   ]
  },
  {
   "cell_type": "code",
   "execution_count": 82,
   "id": "78dd84ed",
   "metadata": {},
   "outputs": [
    {
     "name": "stdout",
     "output_type": "stream",
     "text": [
      "['/game/ds/ghost-trick-phantom-detective/user-reviews']\n"
     ]
    }
   ],
   "source": [
    "[link.get('href') for link in soup_game.find_all('a', attrs = {'class':'action'}, text = 'User Reviews')]"
   ]
  },
  {
   "cell_type": "code",
   "execution_count": null,
   "id": "e78ccad0",
   "metadata": {
    "scrolled": true
   },
   "outputs": [],
   "source": [
    "# # Connect to game reviews\n",
    "# game_link = \"https://www.metacritic.com/game/ds/ghost-trick-phantom-detective/user-reviews\"\n",
    "# response_game = requests.get(game_link, headers = user_agent)\n",
    "# soup_two = BeautifulSoup(response_game.text, 'html.parser')\n",
    "\n",
    "# # game reviews --> dict --> dataframe\n",
    "# review_dict = {'name':[], 'date':[], 'rating':[], 'review':[]}\n",
    "# for review in soup_two.find_all('div', class_='review_content'):\n",
    "#         if review.find('div', class_='name') == None:\n",
    "#                        break \n",
    "#         review_dict['name'].append(review.find('div', class_='name').find('a').text)\n",
    "#         review_dict['date'].append(review.find('div', class_='date').text)\n",
    "#         review_dict['rating'].append(review.find('div', class_='review_grade').find_all('div')[0].text)\n",
    "#         if review.find('span', class_='blurb blurb_expanded'):\n",
    "#             review_dict['review'].append(review.find('span', class_='blurb blurb_expanded').text)\n",
    "#         else:\n",
    "#             review_dict['review'].append(review.find('div', class_='review_body').find('span').text)\n",
    "\n",
    "# sword_reviews = pd.DataFrame(review_dict) \n",
    "# sword_reviews.sample()"
   ]
  },
  {
   "cell_type": "code",
   "execution_count": 61,
   "id": "ad1f6d12",
   "metadata": {},
   "outputs": [
    {
     "data": {
      "text/plain": [
       "['/browse/games/score/userscore/all/all/filtered?view=condensed&sort=descc&page=1',\n",
       " '/browse/games/score/userscore/all/all/filtered?view=condensed&sort=descc&page=2',\n",
       " '/browse/games/score/userscore/all/all/filtered?view=condensed&sort=descc&page=3',\n",
       " '/browse/games/score/userscore/all/all/filtered?view=condensed&sort=descc&page=4',\n",
       " '/browse/games/score/userscore/all/all/filtered?view=condensed&sort=descc&page=5',\n",
       " '/browse/games/score/userscore/all/all/filtered?view=condensed&sort=descc&page=6',\n",
       " '/browse/games/score/userscore/all/all/filtered?view=condensed&sort=descc&page=7',\n",
       " '/browse/games/score/userscore/all/all/filtered?view=condensed&sort=descc&page=8',\n",
       " '/browse/games/score/userscore/all/all/filtered?view=condensed&sort=descc&page=179']"
      ]
     },
     "execution_count": 61,
     "metadata": {},
     "output_type": "execute_result"
    }
   ],
   "source": [
    "# page number links\n",
    "[link.get('href') for link in soup.find_all('a', attrs = {'class': 'page_num'})]"
   ]
  },
  {
   "cell_type": "code",
   "execution_count": 22,
   "id": "468dcc1e",
   "metadata": {},
   "outputs": [],
   "source": [
    "# class Metacritic_spider(scrapy.Spider):\n",
    "    \n",
    "#     name = \"Metacritic\"\n",
    "\n",
    "#     def start_requests(self):\n",
    "#         urls = ['https://www.metacritic.com/browse/games/score/userscore/all/all/filtered?sort=desc']\n",
    "#         user_agent = {'User-agent': 'Mozilla/5.0'}\n",
    "#         for url in urls:\n",
    "#             yield scrapy.Request(url=url, callback=self.parse_game_links, headers = user_agent)\n",
    "            \n",
    "#     def parse_game_links(self, response):\n",
    "#         # Game Link\n",
    "#         game_link = response.css( 'a.title::text' )\n",
    "#         # Extract the links (as a list of strings)        \n",
    "#         links_to_follow = game_link.extract_first()\n",
    "        \n",
    "#         print(links_to_follow)\n",
    "#         # Follow the links to the next parser\n",
    "# #         for url in links_to_follow:yield response.follow( url = url,                                   \n",
    "# #                                                          callback = self.parse_pages )"
   ]
  },
  {
   "cell_type": "code",
   "execution_count": 57,
   "id": "cde26d8b",
   "metadata": {},
   "outputs": [],
   "source": [
    "# process = CrawlerProcess()\n",
    "# process.crawl(Metacritic_spider)\n",
    "# process.start()"
   ]
  }
 ],
 "metadata": {
  "kernelspec": {
   "display_name": "Python 3 (ipykernel)",
   "language": "python",
   "name": "python3"
  },
  "language_info": {
   "codemirror_mode": {
    "name": "ipython",
    "version": 3
   },
   "file_extension": ".py",
   "mimetype": "text/x-python",
   "name": "python",
   "nbconvert_exporter": "python",
   "pygments_lexer": "ipython3",
   "version": "3.9.7"
  }
 },
 "nbformat": 4,
 "nbformat_minor": 5
}
