{
 "cells": [
  {
   "cell_type": "code",
   "execution_count": 1,
   "id": "93c5fb42",
   "metadata": {},
   "outputs": [],
   "source": [
    "import requests\n",
    "from bs4 import BeautifulSoup as bs\n",
    "import pandas as pd\n",
    "import warnings\n",
    "warnings.filterwarnings(action='once')\n",
    "from icecream import ic\n",
    "from random import randint\n",
    "from time import sleep"
   ]
  },
  {
   "cell_type": "code",
   "execution_count": 223,
   "id": "5c7f875e",
   "metadata": {},
   "outputs": [],
   "source": [
    "url = \"https://www.metacritic.com\"\n",
    "first_page = \"https://www.metacritic.com/browse/games/score/userscore/all/all/filtered?view=condensed&sort=descc\"\n",
    "user_agent = {'User-agent': 'Mozilla/5.0'}\n",
    "review_dict = {'name':[], 'date':[], 'game':[], 'rating':[], 'consoles':[], 'review':[]}"
   ]
  },
  {
   "cell_type": "code",
   "execution_count": 225,
   "id": "3ceec951",
   "metadata": {},
   "outputs": [],
   "source": [
    "def parse_page(page_link, next_page, end_page, games_per_page = 3):  \n",
    "    next_page = next_page\n",
    "    print('parsing page:', next_page-1)\n",
    "\n",
    "#   request from current page\n",
    "    response = requests.get(page_link, headers = user_agent)\n",
    "    soup = bs(response.text, 'html.parser')\n",
    "\n",
    "#     Loop through current page and extract links to game pages     \n",
    "    for game in soup.find_all('a', attrs = {'class':'title'})[:games_per_page]:\n",
    "        game_link = url + game.get('href')\n",
    "        \n",
    "#         Connects to game page\n",
    "        game_response = requests.get(game_link, headers = user_agent)\n",
    "        game_soup = bs(game_response.text, 'html.parser')\n",
    "\n",
    "#         Extracts link to User Reviews Page from main game page\n",
    "        for user_review in game_soup.find_all('a', attrs = {'class':'action'}, text = 'User Reviews'):\n",
    "            user_review_link = url + user_review.get('href')\n",
    "            \n",
    "#             Connects to User Review page\n",
    "            user_review_response = requests.get(user_review_link, headers = user_agent)\n",
    "            user_review_soup = bs(user_review_response.text, 'html.parser')\n",
    "            \n",
    "            \n",
    "#           credit: Adeline Ong\n",
    "#           https://towardsdatascience.com/web-scraping-metacritic-reviews-using-beautifulsoup-63801bbe200e\n",
    "\n",
    "#             Loop through User Review Page and Extract Review Data into a dictionary\n",
    "            for review in user_review_soup.find_all('div', class_='review_content'):\n",
    "                if review.find('div', class_='name') == None:\n",
    "                    break\n",
    "                get_consoles(user_review_soup)\n",
    "                review_dict['game'].append(user_review_soup.find('h1').text)\n",
    "                review_dict['name'].append(review.find('div', class_='name').find(recursive = True).text)\n",
    "                review_dict['date'].append(review.find('div', class_='date').text)\n",
    "                review_dict['rating'].append(review.find('div', class_='review_grade').find_all('div')[0].text)\n",
    "                if review.find('span', class_='blurb blurb_expanded'):\n",
    "                    review_dict['review'].append(review.find('span', class_='blurb blurb_expanded').text)\n",
    "                else:\n",
    "                    review_dict['review'].append(review.find('div', class_='review_body').find('span').text)\n",
    "    \n",
    "    \n",
    "    \n",
    "    if next_page == (end_page+1):\n",
    "        print('Done')\n",
    "        return \n",
    "    \n",
    "#     Recurse through the following pages\n",
    "    find_next_page = soup.find('a', class_='page_num', string = f'{next_page}')\n",
    "    nextpage_link = url + find_next_page.get('href')\n",
    "    next_page += 1\n",
    "    parse_page(nextpage_link, next_page, end_page, games_per_page)\n",
    "\n",
    "def get_consoles(user_review_soup):\n",
    "    if user_review_soup.find('span', class_=\"label\", string = \"Also On:\")==None:\n",
    "        review_dict['consoles'].append(user_review_soup.find('span', class_=\"platform\").text.strip())\n",
    "    else:\n",
    "        consoles = [user_review_soup.find('span', class_=\"platform\").text.strip()]\n",
    "        other_consoles = [console.text  for console in user_review_soup.find_all('a', class_=\"hover_none\")[1:]]\n",
    "        consoles.extend(other_consoles)\n",
    "        review_dict['consoles'].append(consoles)"
   ]
  },
  {
   "cell_type": "code",
   "execution_count": 226,
   "id": "2aeb0255",
   "metadata": {},
   "outputs": [
    {
     "name": "stdout",
     "output_type": "stream",
     "text": [
      "parsing page: 1\n",
      "parsing page: 2\n",
      "Done\n"
     ]
    }
   ],
   "source": [
    "parse_page(first_page, next_page = 2, end_page = 2, games_per_page = 2)"
   ]
  },
  {
   "cell_type": "code",
   "execution_count": 229,
   "id": "5c7b45b0",
   "metadata": {
    "scrolled": true
   },
   "outputs": [
    {
     "data": {
      "text/html": [
       "<div>\n",
       "<style scoped>\n",
       "    .dataframe tbody tr th:only-of-type {\n",
       "        vertical-align: middle;\n",
       "    }\n",
       "\n",
       "    .dataframe tbody tr th {\n",
       "        vertical-align: top;\n",
       "    }\n",
       "\n",
       "    .dataframe thead th {\n",
       "        text-align: right;\n",
       "    }\n",
       "</style>\n",
       "<table border=\"1\" class=\"dataframe\">\n",
       "  <thead>\n",
       "    <tr style=\"text-align: right;\">\n",
       "      <th></th>\n",
       "      <th>name</th>\n",
       "      <th>date</th>\n",
       "      <th>game</th>\n",
       "      <th>rating</th>\n",
       "      <th>consoles</th>\n",
       "      <th>review</th>\n",
       "    </tr>\n",
       "  </thead>\n",
       "  <tbody>\n",
       "    <tr>\n",
       "      <th>100</th>\n",
       "      <td>RunFish</td>\n",
       "      <td>Dec 29, 2021</td>\n",
       "      <td>Steins;Gate</td>\n",
       "      <td>10</td>\n",
       "      <td>[PC, iPhone/iPad, PlayStation 3, PlayStation V...</td>\n",
       "      <td>The game is divine!!!!!!!!!!!!!!!!!!!!!!!!!!!!...</td>\n",
       "    </tr>\n",
       "    <tr>\n",
       "      <th>26</th>\n",
       "      <td>EmuChicken</td>\n",
       "      <td>Jul 20, 2014</td>\n",
       "      <td>Ghost Trick: Phantom Detective</td>\n",
       "      <td>9</td>\n",
       "      <td>[DS, iPhone/iPad]</td>\n",
       "      <td>Hmn, so this is what the spirit realm is like?...</td>\n",
       "    </tr>\n",
       "    <tr>\n",
       "      <th>35</th>\n",
       "      <td>miccael</td>\n",
       "      <td>Aug 28, 2018</td>\n",
       "      <td>Ghost Trick: Phantom Detective</td>\n",
       "      <td>10</td>\n",
       "      <td>[DS, iPhone/iPad]</td>\n",
       "      <td>Such an awesome story, artstyle and cool idea....</td>\n",
       "    </tr>\n",
       "    <tr>\n",
       "      <th>54</th>\n",
       "      <td>Skrapmettle</td>\n",
       "      <td>Nov  3, 2010</td>\n",
       "      <td>Z.H.P. Unlosing Ranger vs Darkdeath Evilman</td>\n",
       "      <td>9</td>\n",
       "      <td>[PSP, PC]</td>\n",
       "      <td>It is really amazing to me that a game like th...</td>\n",
       "    </tr>\n",
       "    <tr>\n",
       "      <th>70</th>\n",
       "      <td>Vectis99</td>\n",
       "      <td>Oct 15, 2018</td>\n",
       "      <td>Steins;Gate</td>\n",
       "      <td>10</td>\n",
       "      <td>[PC, iPhone/iPad, PlayStation 3, PlayStation V...</td>\n",
       "      <td>A gripping masterpiece of a visual novel which...</td>\n",
       "    </tr>\n",
       "    <tr>\n",
       "      <th>158</th>\n",
       "      <td>Demonik420</td>\n",
       "      <td>Nov 22, 2013</td>\n",
       "      <td>The Legend of Zelda: A Link Between Worlds</td>\n",
       "      <td>10</td>\n",
       "      <td>3DS</td>\n",
       "      <td>A Nostalgia paradise! Zelda: A Link Between Wo...</td>\n",
       "    </tr>\n",
       "    <tr>\n",
       "      <th>163</th>\n",
       "      <td>PuckMan</td>\n",
       "      <td>Jan  2, 2014</td>\n",
       "      <td>The Legend of Zelda: A Link Between Worlds</td>\n",
       "      <td>7</td>\n",
       "      <td>3DS</td>\n",
       "      <td>A very solid workman like entry in the Zelda s...</td>\n",
       "    </tr>\n",
       "    <tr>\n",
       "      <th>147</th>\n",
       "      <td>robotryz</td>\n",
       "      <td>Feb 12, 2018</td>\n",
       "      <td>The Legend of Zelda: A Link Between Worlds</td>\n",
       "      <td>9</td>\n",
       "      <td>3DS</td>\n",
       "      <td>A Link Between Worlds was very good!\\rI beat i...</td>\n",
       "    </tr>\n",
       "    <tr>\n",
       "      <th>65</th>\n",
       "      <td>RunFish12B8</td>\n",
       "      <td>Dec 28, 2021</td>\n",
       "      <td>Z.H.P. Unlosing Ranger vs Darkdeath Evilman</td>\n",
       "      <td>10</td>\n",
       "      <td>[PSP, PC]</td>\n",
       "      <td>The game is divine!!!!!!!!!!!!!!!!!!!!!!!!!!!!...</td>\n",
       "    </tr>\n",
       "    <tr>\n",
       "      <th>144</th>\n",
       "      <td>Titannumber20</td>\n",
       "      <td>Mar 15, 2015</td>\n",
       "      <td>The Legend of Zelda: A Link Between Worlds</td>\n",
       "      <td>9</td>\n",
       "      <td>3DS</td>\n",
       "      <td>One of the best Zelda games in recent years. I...</td>\n",
       "    </tr>\n",
       "  </tbody>\n",
       "</table>\n",
       "</div>"
      ],
      "text/plain": [
       "              name          date                                         game  \\\n",
       "100        RunFish  Dec 29, 2021                                  Steins;Gate   \n",
       "26      EmuChicken  Jul 20, 2014               Ghost Trick: Phantom Detective   \n",
       "35         miccael  Aug 28, 2018               Ghost Trick: Phantom Detective   \n",
       "54     Skrapmettle  Nov  3, 2010  Z.H.P. Unlosing Ranger vs Darkdeath Evilman   \n",
       "70        Vectis99  Oct 15, 2018                                  Steins;Gate   \n",
       "158     Demonik420  Nov 22, 2013   The Legend of Zelda: A Link Between Worlds   \n",
       "163        PuckMan  Jan  2, 2014   The Legend of Zelda: A Link Between Worlds   \n",
       "147       robotryz  Feb 12, 2018   The Legend of Zelda: A Link Between Worlds   \n",
       "65     RunFish12B8  Dec 28, 2021  Z.H.P. Unlosing Ranger vs Darkdeath Evilman   \n",
       "144  Titannumber20  Mar 15, 2015   The Legend of Zelda: A Link Between Worlds   \n",
       "\n",
       "    rating                                           consoles  \\\n",
       "100     10  [PC, iPhone/iPad, PlayStation 3, PlayStation V...   \n",
       "26       9                                  [DS, iPhone/iPad]   \n",
       "35      10                                  [DS, iPhone/iPad]   \n",
       "54       9                                          [PSP, PC]   \n",
       "70      10  [PC, iPhone/iPad, PlayStation 3, PlayStation V...   \n",
       "158     10                                                3DS   \n",
       "163      7                                                3DS   \n",
       "147      9                                                3DS   \n",
       "65      10                                          [PSP, PC]   \n",
       "144      9                                                3DS   \n",
       "\n",
       "                                                review  \n",
       "100  The game is divine!!!!!!!!!!!!!!!!!!!!!!!!!!!!...  \n",
       "26   Hmn, so this is what the spirit realm is like?...  \n",
       "35   Such an awesome story, artstyle and cool idea....  \n",
       "54   It is really amazing to me that a game like th...  \n",
       "70   A gripping masterpiece of a visual novel which...  \n",
       "158  A Nostalgia paradise! Zelda: A Link Between Wo...  \n",
       "163  A very solid workman like entry in the Zelda s...  \n",
       "147  A Link Between Worlds was very good!\\rI beat i...  \n",
       "65   The game is divine!!!!!!!!!!!!!!!!!!!!!!!!!!!!...  \n",
       "144  One of the best Zelda games in recent years. I...  "
      ]
     },
     "execution_count": 229,
     "metadata": {},
     "output_type": "execute_result"
    }
   ],
   "source": [
    "reviews = pd.DataFrame(review_dict) \n",
    "reviews.sample(10)"
   ]
  },
  {
   "cell_type": "markdown",
   "id": "84a2ca64",
   "metadata": {},
   "source": [
    "# <br><br><br>Beyond this point was just debugging<br><br><br><br><br>"
   ]
  },
  {
   "cell_type": "code",
   "execution_count": 201,
   "id": "355919e7",
   "metadata": {},
   "outputs": [],
   "source": [
    "def testing():\n",
    "    while True:\n",
    "        print('done')\n",
    "        return"
   ]
  },
  {
   "cell_type": "code",
   "execution_count": 202,
   "id": "5d897265",
   "metadata": {},
   "outputs": [
    {
     "name": "stdout",
     "output_type": "stream",
     "text": [
      "done\n"
     ]
    }
   ],
   "source": [
    "testing()"
   ]
  },
  {
   "cell_type": "code",
   "execution_count": 60,
   "id": "d6d6b7a5",
   "metadata": {},
   "outputs": [
    {
     "data": {
      "text/plain": [
       "['/game/ds/ghost-trick-phantom-detective',\n",
       " '/game/psp/zhp-unlosing-ranger-vs-darkdeath-evilman',\n",
       " '/game/playstation-2/grimgrimoire',\n",
       " '/game/xbox-one/superliminal',\n",
       " '/game/switch/superliminal']"
      ]
     },
     "execution_count": 60,
     "metadata": {},
     "output_type": "execute_result"
    }
   ],
   "source": [
    "# review links for each game title\n",
    "[link.get('href') for link in soup.find_all('a', attrs = {'class':'title'})][:5]"
   ]
  },
  {
   "cell_type": "code",
   "execution_count": 189,
   "id": "0ab999c7",
   "metadata": {},
   "outputs": [],
   "source": [
    "# get to user reviews page\n",
    "link = \"https://www.metacritic.com/game/ds/ghost-trick-phantom-detective\"\n",
    "response = requests.get(link, headers = user_agent)\n",
    "soup_game = bs(response.text, 'html.parser')"
   ]
  },
  {
   "cell_type": "code",
   "execution_count": 193,
   "id": "2758bd7a",
   "metadata": {},
   "outputs": [
    {
     "data": {
      "text/plain": [
       "['/game/ds/ghost-trick-phantom-detective/user-reviews']"
      ]
     },
     "execution_count": 193,
     "metadata": {},
     "output_type": "execute_result"
    }
   ],
   "source": [
    "[link.get('href') for link in soup_game.find_all('a', attrs = {'class':'action'}, text = 'User Reviews')]"
   ]
  },
  {
   "cell_type": "code",
   "execution_count": 141,
   "id": "dbaecc07",
   "metadata": {},
   "outputs": [],
   "source": [
    "#get game name\n",
    "link = \"https://www.metacritic.com/game/xbox-one/superliminal/user-reviews\"\n",
    "response = requests.get(link, headers = user_agent)\n",
    "soup = bs(response.text, 'html.parser')"
   ]
  },
  {
   "cell_type": "code",
   "execution_count": 142,
   "id": "bc5eb9a9",
   "metadata": {},
   "outputs": [
    {
     "data": {
      "text/plain": [
       "'Superliminal'"
      ]
     },
     "execution_count": 142,
     "metadata": {},
     "output_type": "execute_result"
    }
   ],
   "source": [
    "soup.find('h1').text"
   ]
  },
  {
   "cell_type": "code",
   "execution_count": 143,
   "id": "09e4fc77",
   "metadata": {},
   "outputs": [],
   "source": [
    "#get consoles \n",
    "link = \"https://www.metacritic.com/game/xbox-one/superliminal/user-reviews\"\n",
    "response = requests.get(link, headers = user_agent)\n",
    "soup = bs(response.text, 'html.parser')"
   ]
  },
  {
   "cell_type": "code",
   "execution_count": 144,
   "id": "1c94b90f",
   "metadata": {},
   "outputs": [
    {
     "data": {
      "text/plain": [
       "'Xbox One'"
      ]
     },
     "execution_count": 144,
     "metadata": {},
     "output_type": "execute_result"
    }
   ],
   "source": [
    "soup.find('span', class_=\"platform\").text.strip()"
   ]
  },
  {
   "cell_type": "code",
   "execution_count": 146,
   "id": "3ee34685",
   "metadata": {
    "scrolled": true
   },
   "outputs": [
    {
     "data": {
      "text/plain": [
       "False"
      ]
     },
     "execution_count": 146,
     "metadata": {},
     "output_type": "execute_result"
    }
   ],
   "source": [
    "soup.find('span', class_=\"label\", string = \"Also On:\")==None"
   ]
  },
  {
   "cell_type": "code",
   "execution_count": 152,
   "id": "5cf5a302",
   "metadata": {},
   "outputs": [],
   "source": [
    "other_consoles = [console.text  for console in soup.find_all('a', class_=\"hover_none\")[1:]]"
   ]
  },
  {
   "cell_type": "code",
   "execution_count": 161,
   "id": "0b23a619",
   "metadata": {},
   "outputs": [],
   "source": [
    "mylist = ['console1']\n",
    "mylist.extend([console.text  for console in soup.find_all('a', class_=\"hover_none\")[1:]])"
   ]
  },
  {
   "cell_type": "code",
   "execution_count": 162,
   "id": "c3931418",
   "metadata": {},
   "outputs": [
    {
     "data": {
      "text/plain": [
       "['console1', 'PC', 'PlayStation 4', 'Switch']"
      ]
     },
     "execution_count": 162,
     "metadata": {},
     "output_type": "execute_result"
    }
   ],
   "source": [
    "mylist"
   ]
  },
  {
   "cell_type": "code",
   "execution_count": 206,
   "id": "8a72070e",
   "metadata": {},
   "outputs": [
    {
     "ename": "TypeError",
     "evalue": "'NoneType' object is not iterable",
     "output_type": "error",
     "traceback": [
      "\u001b[1;31m---------------------------------------------------------------------------\u001b[0m",
      "\u001b[1;31mTypeError\u001b[0m                                 Traceback (most recent call last)",
      "\u001b[1;32m~\\AppData\\Local\\Temp/ipykernel_13772/224522213.py\u001b[0m in \u001b[0;36m<module>\u001b[1;34m\u001b[0m\n\u001b[1;32m----> 1\u001b[1;33m \u001b[0mmylist\u001b[0m\u001b[1;33m.\u001b[0m\u001b[0mextend\u001b[0m\u001b[1;33m(\u001b[0m\u001b[1;33m[\u001b[0m\u001b[0msoup\u001b[0m\u001b[1;33m.\u001b[0m\u001b[0mfind\u001b[0m\u001b[1;33m(\u001b[0m\u001b[1;34m'span'\u001b[0m\u001b[1;33m,\u001b[0m \u001b[0mclass_\u001b[0m\u001b[1;33m=\u001b[0m\u001b[1;34m\"platform\"\u001b[0m\u001b[1;33m)\u001b[0m\u001b[1;33m.\u001b[0m\u001b[0mtext\u001b[0m\u001b[1;33m.\u001b[0m\u001b[0mstrip\u001b[0m\u001b[1;33m(\u001b[0m\u001b[1;33m)\u001b[0m\u001b[1;33m]\u001b[0m\u001b[1;33m.\u001b[0m\u001b[0mextend\u001b[0m\u001b[1;33m(\u001b[0m\u001b[0mother_consoles\u001b[0m\u001b[1;33m)\u001b[0m\u001b[1;33m)\u001b[0m\u001b[1;33m\u001b[0m\u001b[1;33m\u001b[0m\u001b[0m\n\u001b[0m",
      "\u001b[1;31mTypeError\u001b[0m: 'NoneType' object is not iterable"
     ]
    }
   ],
   "source": [
    "mylist.extend([soup.find('span', class_=\"platform\").text.strip()].extend(other_consoles))"
   ]
  },
  {
   "cell_type": "code",
   "execution_count": null,
   "id": "657297eb",
   "metadata": {
    "scrolled": true
   },
   "outputs": [],
   "source": [
    "# # Connect to game reviews\n",
    "# game_link = \"https://www.metacritic.com/game/ds/ghost-trick-phantom-detective/user-reviews\"\n",
    "# response_game = requests.get(game_link, headers = user_agent)\n",
    "# soup_two = BeautifulSoup(response_game.text, 'html.parser')\n",
    "\n",
    "# # game reviews --> dict --> dataframe\n",
    "# review_dict = {'name':[], 'date':[], 'rating':[], 'review':[]}\n",
    "# for review in soup_two.find_all('div', class_='review_content'):\n",
    "#         if review.find('div', class_='name') == None:\n",
    "#                        break \n",
    "#         review_dict['name'].append(review.find('div', class_='name').find('a').text)\n",
    "#         review_dict['date'].append(review.find('div', class_='date').text)\n",
    "#         review_dict['rating'].append(review.find('div', class_='review_grade').find_all('div')[0].text)\n",
    "#         if review.find('span', class_='blurb blurb_expanded'):\n",
    "#             review_dict['review'].append(review.find('span', class_='blurb blurb_expanded').text)\n",
    "#         else:\n",
    "#             review_dict['review'].append(review.find('div', class_='review_body').find('span').text)\n",
    "\n",
    "# sword_reviews = pd.DataFrame(review_dict) \n",
    "# sword_reviews.sample()"
   ]
  },
  {
   "cell_type": "code",
   "execution_count": 61,
   "id": "894a6cf0",
   "metadata": {},
   "outputs": [
    {
     "data": {
      "text/plain": [
       "['/browse/games/score/userscore/all/all/filtered?view=condensed&sort=descc&page=1',\n",
       " '/browse/games/score/userscore/all/all/filtered?view=condensed&sort=descc&page=2',\n",
       " '/browse/games/score/userscore/all/all/filtered?view=condensed&sort=descc&page=3',\n",
       " '/browse/games/score/userscore/all/all/filtered?view=condensed&sort=descc&page=4',\n",
       " '/browse/games/score/userscore/all/all/filtered?view=condensed&sort=descc&page=5',\n",
       " '/browse/games/score/userscore/all/all/filtered?view=condensed&sort=descc&page=6',\n",
       " '/browse/games/score/userscore/all/all/filtered?view=condensed&sort=descc&page=7',\n",
       " '/browse/games/score/userscore/all/all/filtered?view=condensed&sort=descc&page=8',\n",
       " '/browse/games/score/userscore/all/all/filtered?view=condensed&sort=descc&page=179']"
      ]
     },
     "execution_count": 61,
     "metadata": {},
     "output_type": "execute_result"
    }
   ],
   "source": [
    "# page number links\n",
    "[link.get('href') for link in soup.find_all('a', attrs = {'class': 'page_num'})]"
   ]
  },
  {
   "cell_type": "code",
   "execution_count": 22,
   "id": "92a6d8c0",
   "metadata": {},
   "outputs": [],
   "source": [
    "# class Metacritic_spider(scrapy.Spider):\n",
    "    \n",
    "#     name = \"Metacritic\"\n",
    "\n",
    "#     def start_requests(self):\n",
    "#         urls = ['https://www.metacritic.com/browse/games/score/userscore/all/all/filtered?sort=desc']\n",
    "#         user_agent = {'User-agent': 'Mozilla/5.0'}\n",
    "#         for url in urls:\n",
    "#             yield scrapy.Request(url=url, callback=self.parse_game_links, headers = user_agent)\n",
    "            \n",
    "#     def parse_game_links(self, response):\n",
    "#         # Game Link\n",
    "#         game_link = response.css( 'a.title::text' )\n",
    "#         # Extract the links (as a list of strings)        \n",
    "#         links_to_follow = game_link.extract_first()\n",
    "        \n",
    "#         print(links_to_follow)\n",
    "#         # Follow the links to the next parser\n",
    "# #         for url in links_to_follow:yield response.follow( url = url,                                   \n",
    "# #                                                          callback = self.parse_pages )"
   ]
  },
  {
   "cell_type": "code",
   "execution_count": 57,
   "id": "0acfbc82",
   "metadata": {},
   "outputs": [],
   "source": [
    "# process = CrawlerProcess()\n",
    "# process.crawl(Metacritic_spider)\n",
    "# process.start()"
   ]
  }
 ],
 "metadata": {
  "kernelspec": {
   "display_name": "Python 3 (ipykernel)",
   "language": "python",
   "name": "python3"
  },
  "language_info": {
   "codemirror_mode": {
    "name": "ipython",
    "version": 3
   },
   "file_extension": ".py",
   "mimetype": "text/x-python",
   "name": "python",
   "nbconvert_exporter": "python",
   "pygments_lexer": "ipython3",
   "version": "3.9.7"
  }
 },
 "nbformat": 4,
 "nbformat_minor": 5
}
